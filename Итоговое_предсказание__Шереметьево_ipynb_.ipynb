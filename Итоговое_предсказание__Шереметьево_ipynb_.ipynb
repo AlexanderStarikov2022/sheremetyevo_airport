{
  "nbformat": 4,
  "nbformat_minor": 0,
  "metadata": {
    "colab": {
      "provenance": [],
      "collapsed_sections": [
        "2t4jVVI27Bvi",
        "PeVNxGYsT1iN"
      ],
      "toc_visible": true
    },
    "kernelspec": {
      "name": "python3",
      "display_name": "Python 3"
    },
    "language_info": {
      "name": "python"
    }
  },
  "cells": [
    {
      "cell_type": "markdown",
      "source": [
        "# Библиотеки"
      ],
      "metadata": {
        "id": "1zfBVzD5eWBf"
      }
    },
    {
      "cell_type": "code",
      "source": [
        "from google.colab import drive\n",
        "drive.mount('/content/drive')"
      ],
      "metadata": {
        "colab": {
          "base_uri": "https://localhost:8080/"
        },
        "id": "nmk1Zs60n_Uc",
        "outputId": "6a538f58-84c6-4672-ea43-3f110c478393"
      },
      "execution_count": null,
      "outputs": [
        {
          "output_type": "stream",
          "name": "stdout",
          "text": [
            "Mounted at /content/drive\n"
          ]
        }
      ]
    },
    {
      "cell_type": "code",
      "source": [
        "pip install catboost >> none"
      ],
      "metadata": {
        "id": "S9gn6TUP1-DL"
      },
      "execution_count": null,
      "outputs": []
    },
    {
      "cell_type": "code",
      "execution_count": null,
      "metadata": {
        "id": "mNTvmu6qjFX3"
      },
      "outputs": [],
      "source": [
        "import datetime\n",
        "import pandas as pd\n",
        "import numpy as np\n",
        "\n",
        "import matplotlib.pyplot as plt\n",
        "import seaborn as sns\n",
        "import plotly.express as px\n",
        "\n",
        "from catboost import CatBoostRegressor, CatBoostClassifier\n",
        "\n",
        "from sklearn.model_selection import *\n",
        "from sklearn.metrics import *\n",
        "\n",
        "pd.options.display.float_format = \"{:.1f}\".format\n",
        "sns.set_style(\"whitegrid\")\n",
        "plt.style.use(\"fivethirtyeight\") \n",
        "\n",
        "import warnings\n",
        "warnings.filterwarnings(\"ignore\")"
      ]
    },
    {
      "cell_type": "code",
      "source": [
        "from sklearn.model_selection import train_test_split"
      ],
      "metadata": {
        "id": "tVLb93wOwV4y"
      },
      "execution_count": null,
      "outputs": []
    },
    {
      "cell_type": "markdown",
      "source": [
        "# загрузка датасетов"
      ],
      "metadata": {
        "id": "TDUFc88bkZCs"
      }
    },
    {
      "cell_type": "code",
      "source": [
        "df_Union = pd.read_excel(\"df_Union.xlsx\")"
      ],
      "metadata": {
        "id": "Eq4Hu4AVxQI_"
      },
      "execution_count": null,
      "outputs": []
    },
    {
      "cell_type": "code",
      "source": [
        "df_pas = pd.read_excel(\"Пассажиропоток.xlsx\")"
      ],
      "metadata": {
        "id": "nv8-MY7M6isZ"
      },
      "execution_count": null,
      "outputs": []
    },
    {
      "cell_type": "code",
      "source": [
        "df_table = pd.read_excel(\"Расписание рейсов 05-06.2022 (1).xlsx\")"
      ],
      "metadata": {
        "id": "uc_QiRFF6uO_"
      },
      "execution_count": null,
      "outputs": []
    },
    {
      "cell_type": "code",
      "source": [
        "pd.set_option('display.max_columns', None)"
      ],
      "metadata": {
        "id": "sInNr0o7Q7i1"
      },
      "execution_count": null,
      "outputs": []
    },
    {
      "cell_type": "markdown",
      "source": [
        "# Данные входные новые"
      ],
      "metadata": {
        "id": "2t4jVVI27Bvi"
      }
    },
    {
      "cell_type": "code",
      "source": [
        "df_Union.head(3)"
      ],
      "metadata": {
        "colab": {
          "base_uri": "https://localhost:8080/"
        },
        "outputId": "6ce93aa8-55a1-468c-d5e1-16fc9f94768e",
        "id": "BbnPiJta7Bvj"
      },
      "execution_count": null,
      "outputs": [
        {
          "output_type": "execute_result",
          "data": {
            "text/plain": [
              "                TimeThirty         DAT       Торговая точка  Касса  orgtype  \\\n",
              "0  2022-05-01 00:00:00.000  2022-05-01  Торговая точка 0601   7683  Общепит   \n",
              "1  2022-05-01 00:00:00.000  2022-05-01  Торговая точка 8313   2251  Общепит   \n",
              "2  2022-05-01 00:00:00.000  2022-05-01  Торговая точка 8313    538  Общепит   \n",
              "\n",
              "  terminal                  tzone  TotalSumm День недели TimeThirty2  T    P0  \\\n",
              "0        B  Чистая зона ВВЛ-вылет   755448.0          Вс  2022-05-01  2 749.7   \n",
              "1        B  Чистая зона ВВЛ-вылет    44560.0          Вс  2022-05-01  2 749.7   \n",
              "2        B  Чистая зона ВВЛ-вылет   242160.0          Вс  2022-05-01  2 749.7   \n",
              "\n",
              "      P   U                             DD  Ff   WW W'W'  \\\n",
              "0 767.3  65  Ветер, дующий с северо-запада   1  нет  нет   \n",
              "1 767.3  65  Ветер, дующий с северо-запада   1  нет  нет   \n",
              "2 767.3  65  Ветер, дующий с северо-запада   1  нет  нет   \n",
              "\n",
              "                             c            VV  Td  Кол-во рейсов вылет  \\\n",
              "0  Нет существенной облачности  10.0 и более  -4                583.0   \n",
              "1  Нет существенной облачности  10.0 и более  -4                583.0   \n",
              "2  Нет существенной облачности  10.0 и более  -4                583.0   \n",
              "\n",
              "   Среднее время ожидания Среднее время ожидания в часах  \\\n",
              "0                     0.1                01:52:26.760000   \n",
              "1                     0.1                01:52:26.760000   \n",
              "2                     0.1                01:52:26.760000   \n",
              "\n",
              "  Суммарное время ожидания в часах  Суммарное время ожидания  \\\n",
              "0              1900-02-14 12:36:01                      45.5   \n",
              "1              1900-02-14 12:36:01                      45.5   \n",
              "2              1900-02-14 12:36:01                      45.5   \n",
              "\n",
              "   Макс время ожидания  Кол-во рейсов вылет по рассписанию  \\\n",
              "0                  0.3                                 NaN   \n",
              "1                  0.3                                 NaN   \n",
              "2                  0.3                                 NaN   \n",
              "\n",
              "   Среднее время ожидания между прилет и вылет  \\\n",
              "0                                          NaN   \n",
              "1                                          NaN   \n",
              "2                                          NaN   \n",
              "\n",
              "  Среднее время ожидания в часах между прилет и вылет  \\\n",
              "0                                                NaN    \n",
              "1                                                NaN    \n",
              "2                                                NaN    \n",
              "\n",
              "   Суммарное время ожидания в  между прилет и вылет  \\\n",
              "0                                               NaN   \n",
              "1                                               NaN   \n",
              "2                                               NaN   \n",
              "\n",
              "  Суммарное время ожидания в часах между прилет и вылет  \\\n",
              "0                                                NaN      \n",
              "1                                                NaN      \n",
              "2                                                NaN      \n",
              "\n",
              "   Макс время ожидания между прилет и вылет  \n",
              "0                                       NaN  \n",
              "1                                       NaN  \n",
              "2                                       NaN  "
            ],
            "text/html": [
              "\n",
              "  <div id=\"df-23a99195-7100-41ee-ba82-31b0bb35e3ab\">\n",
              "    <div class=\"colab-df-container\">\n",
              "      <div>\n",
              "<style scoped>\n",
              "    .dataframe tbody tr th:only-of-type {\n",
              "        vertical-align: middle;\n",
              "    }\n",
              "\n",
              "    .dataframe tbody tr th {\n",
              "        vertical-align: top;\n",
              "    }\n",
              "\n",
              "    .dataframe thead th {\n",
              "        text-align: right;\n",
              "    }\n",
              "</style>\n",
              "<table border=\"1\" class=\"dataframe\">\n",
              "  <thead>\n",
              "    <tr style=\"text-align: right;\">\n",
              "      <th></th>\n",
              "      <th>TimeThirty</th>\n",
              "      <th>DAT</th>\n",
              "      <th>Торговая точка</th>\n",
              "      <th>Касса</th>\n",
              "      <th>orgtype</th>\n",
              "      <th>terminal</th>\n",
              "      <th>tzone</th>\n",
              "      <th>TotalSumm</th>\n",
              "      <th>День недели</th>\n",
              "      <th>TimeThirty2</th>\n",
              "      <th>T</th>\n",
              "      <th>P0</th>\n",
              "      <th>P</th>\n",
              "      <th>U</th>\n",
              "      <th>DD</th>\n",
              "      <th>Ff</th>\n",
              "      <th>WW</th>\n",
              "      <th>W'W'</th>\n",
              "      <th>c</th>\n",
              "      <th>VV</th>\n",
              "      <th>Td</th>\n",
              "      <th>Кол-во рейсов вылет</th>\n",
              "      <th>Среднее время ожидания</th>\n",
              "      <th>Среднее время ожидания в часах</th>\n",
              "      <th>Суммарное время ожидания в часах</th>\n",
              "      <th>Суммарное время ожидания</th>\n",
              "      <th>Макс время ожидания</th>\n",
              "      <th>Кол-во рейсов вылет по рассписанию</th>\n",
              "      <th>Среднее время ожидания между прилет и вылет</th>\n",
              "      <th>Среднее время ожидания в часах между прилет и вылет</th>\n",
              "      <th>Суммарное время ожидания в  между прилет и вылет</th>\n",
              "      <th>Суммарное время ожидания в часах между прилет и вылет</th>\n",
              "      <th>Макс время ожидания между прилет и вылет</th>\n",
              "    </tr>\n",
              "  </thead>\n",
              "  <tbody>\n",
              "    <tr>\n",
              "      <th>0</th>\n",
              "      <td>2022-05-01 00:00:00.000</td>\n",
              "      <td>2022-05-01</td>\n",
              "      <td>Торговая точка 0601</td>\n",
              "      <td>7683</td>\n",
              "      <td>Общепит</td>\n",
              "      <td>B</td>\n",
              "      <td>Чистая зона ВВЛ-вылет</td>\n",
              "      <td>755448.0</td>\n",
              "      <td>Вс</td>\n",
              "      <td>2022-05-01</td>\n",
              "      <td>2</td>\n",
              "      <td>749.7</td>\n",
              "      <td>767.3</td>\n",
              "      <td>65</td>\n",
              "      <td>Ветер, дующий с северо-запада</td>\n",
              "      <td>1</td>\n",
              "      <td>нет</td>\n",
              "      <td>нет</td>\n",
              "      <td>Нет существенной облачности</td>\n",
              "      <td>10.0 и более</td>\n",
              "      <td>-4</td>\n",
              "      <td>583.0</td>\n",
              "      <td>0.1</td>\n",
              "      <td>01:52:26.760000</td>\n",
              "      <td>1900-02-14 12:36:01</td>\n",
              "      <td>45.5</td>\n",
              "      <td>0.3</td>\n",
              "      <td>NaN</td>\n",
              "      <td>NaN</td>\n",
              "      <td>NaN</td>\n",
              "      <td>NaN</td>\n",
              "      <td>NaN</td>\n",
              "      <td>NaN</td>\n",
              "    </tr>\n",
              "    <tr>\n",
              "      <th>1</th>\n",
              "      <td>2022-05-01 00:00:00.000</td>\n",
              "      <td>2022-05-01</td>\n",
              "      <td>Торговая точка 8313</td>\n",
              "      <td>2251</td>\n",
              "      <td>Общепит</td>\n",
              "      <td>B</td>\n",
              "      <td>Чистая зона ВВЛ-вылет</td>\n",
              "      <td>44560.0</td>\n",
              "      <td>Вс</td>\n",
              "      <td>2022-05-01</td>\n",
              "      <td>2</td>\n",
              "      <td>749.7</td>\n",
              "      <td>767.3</td>\n",
              "      <td>65</td>\n",
              "      <td>Ветер, дующий с северо-запада</td>\n",
              "      <td>1</td>\n",
              "      <td>нет</td>\n",
              "      <td>нет</td>\n",
              "      <td>Нет существенной облачности</td>\n",
              "      <td>10.0 и более</td>\n",
              "      <td>-4</td>\n",
              "      <td>583.0</td>\n",
              "      <td>0.1</td>\n",
              "      <td>01:52:26.760000</td>\n",
              "      <td>1900-02-14 12:36:01</td>\n",
              "      <td>45.5</td>\n",
              "      <td>0.3</td>\n",
              "      <td>NaN</td>\n",
              "      <td>NaN</td>\n",
              "      <td>NaN</td>\n",
              "      <td>NaN</td>\n",
              "      <td>NaN</td>\n",
              "      <td>NaN</td>\n",
              "    </tr>\n",
              "    <tr>\n",
              "      <th>2</th>\n",
              "      <td>2022-05-01 00:00:00.000</td>\n",
              "      <td>2022-05-01</td>\n",
              "      <td>Торговая точка 8313</td>\n",
              "      <td>538</td>\n",
              "      <td>Общепит</td>\n",
              "      <td>B</td>\n",
              "      <td>Чистая зона ВВЛ-вылет</td>\n",
              "      <td>242160.0</td>\n",
              "      <td>Вс</td>\n",
              "      <td>2022-05-01</td>\n",
              "      <td>2</td>\n",
              "      <td>749.7</td>\n",
              "      <td>767.3</td>\n",
              "      <td>65</td>\n",
              "      <td>Ветер, дующий с северо-запада</td>\n",
              "      <td>1</td>\n",
              "      <td>нет</td>\n",
              "      <td>нет</td>\n",
              "      <td>Нет существенной облачности</td>\n",
              "      <td>10.0 и более</td>\n",
              "      <td>-4</td>\n",
              "      <td>583.0</td>\n",
              "      <td>0.1</td>\n",
              "      <td>01:52:26.760000</td>\n",
              "      <td>1900-02-14 12:36:01</td>\n",
              "      <td>45.5</td>\n",
              "      <td>0.3</td>\n",
              "      <td>NaN</td>\n",
              "      <td>NaN</td>\n",
              "      <td>NaN</td>\n",
              "      <td>NaN</td>\n",
              "      <td>NaN</td>\n",
              "      <td>NaN</td>\n",
              "    </tr>\n",
              "  </tbody>\n",
              "</table>\n",
              "</div>\n",
              "      <button class=\"colab-df-convert\" onclick=\"convertToInteractive('df-23a99195-7100-41ee-ba82-31b0bb35e3ab')\"\n",
              "              title=\"Convert this dataframe to an interactive table.\"\n",
              "              style=\"display:none;\">\n",
              "        \n",
              "  <svg xmlns=\"http://www.w3.org/2000/svg\" height=\"24px\"viewBox=\"0 0 24 24\"\n",
              "       width=\"24px\">\n",
              "    <path d=\"M0 0h24v24H0V0z\" fill=\"none\"/>\n",
              "    <path d=\"M18.56 5.44l.94 2.06.94-2.06 2.06-.94-2.06-.94-.94-2.06-.94 2.06-2.06.94zm-11 1L8.5 8.5l.94-2.06 2.06-.94-2.06-.94L8.5 2.5l-.94 2.06-2.06.94zm10 10l.94 2.06.94-2.06 2.06-.94-2.06-.94-.94-2.06-.94 2.06-2.06.94z\"/><path d=\"M17.41 7.96l-1.37-1.37c-.4-.4-.92-.59-1.43-.59-.52 0-1.04.2-1.43.59L10.3 9.45l-7.72 7.72c-.78.78-.78 2.05 0 2.83L4 21.41c.39.39.9.59 1.41.59.51 0 1.02-.2 1.41-.59l7.78-7.78 2.81-2.81c.8-.78.8-2.07 0-2.86zM5.41 20L4 18.59l7.72-7.72 1.47 1.35L5.41 20z\"/>\n",
              "  </svg>\n",
              "      </button>\n",
              "      \n",
              "  <style>\n",
              "    .colab-df-container {\n",
              "      display:flex;\n",
              "      flex-wrap:wrap;\n",
              "      gap: 12px;\n",
              "    }\n",
              "\n",
              "    .colab-df-convert {\n",
              "      background-color: #E8F0FE;\n",
              "      border: none;\n",
              "      border-radius: 50%;\n",
              "      cursor: pointer;\n",
              "      display: none;\n",
              "      fill: #1967D2;\n",
              "      height: 32px;\n",
              "      padding: 0 0 0 0;\n",
              "      width: 32px;\n",
              "    }\n",
              "\n",
              "    .colab-df-convert:hover {\n",
              "      background-color: #E2EBFA;\n",
              "      box-shadow: 0px 1px 2px rgba(60, 64, 67, 0.3), 0px 1px 3px 1px rgba(60, 64, 67, 0.15);\n",
              "      fill: #174EA6;\n",
              "    }\n",
              "\n",
              "    [theme=dark] .colab-df-convert {\n",
              "      background-color: #3B4455;\n",
              "      fill: #D2E3FC;\n",
              "    }\n",
              "\n",
              "    [theme=dark] .colab-df-convert:hover {\n",
              "      background-color: #434B5C;\n",
              "      box-shadow: 0px 1px 3px 1px rgba(0, 0, 0, 0.15);\n",
              "      filter: drop-shadow(0px 1px 2px rgba(0, 0, 0, 0.3));\n",
              "      fill: #FFFFFF;\n",
              "    }\n",
              "  </style>\n",
              "\n",
              "      <script>\n",
              "        const buttonEl =\n",
              "          document.querySelector('#df-23a99195-7100-41ee-ba82-31b0bb35e3ab button.colab-df-convert');\n",
              "        buttonEl.style.display =\n",
              "          google.colab.kernel.accessAllowed ? 'block' : 'none';\n",
              "\n",
              "        async function convertToInteractive(key) {\n",
              "          const element = document.querySelector('#df-23a99195-7100-41ee-ba82-31b0bb35e3ab');\n",
              "          const dataTable =\n",
              "            await google.colab.kernel.invokeFunction('convertToInteractive',\n",
              "                                                     [key], {});\n",
              "          if (!dataTable) return;\n",
              "\n",
              "          const docLinkHtml = 'Like what you see? Visit the ' +\n",
              "            '<a target=\"_blank\" href=https://colab.research.google.com/notebooks/data_table.ipynb>data table notebook</a>'\n",
              "            + ' to learn more about interactive tables.';\n",
              "          element.innerHTML = '';\n",
              "          dataTable['output_type'] = 'display_data';\n",
              "          await google.colab.output.renderOutput(dataTable, element);\n",
              "          const docLink = document.createElement('div');\n",
              "          docLink.innerHTML = docLinkHtml;\n",
              "          element.appendChild(docLink);\n",
              "        }\n",
              "      </script>\n",
              "    </div>\n",
              "  </div>\n",
              "  "
            ]
          },
          "metadata": {},
          "execution_count": 10
        }
      ]
    },
    {
      "cell_type": "code",
      "source": [
        "df_Union.shape"
      ],
      "metadata": {
        "colab": {
          "base_uri": "https://localhost:8080/"
        },
        "outputId": "6c257725-2272-4cbd-809b-c77486841e5d",
        "id": "B1GwvWpD7Bvj"
      },
      "execution_count": null,
      "outputs": [
        {
          "output_type": "execute_result",
          "data": {
            "text/plain": [
              "(24049, 33)"
            ]
          },
          "metadata": {},
          "execution_count": 11
        }
      ]
    },
    {
      "cell_type": "code",
      "source": [
        "df_Union.info()"
      ],
      "metadata": {
        "id": "-15L6ZZfM8j_",
        "outputId": "a10ae14f-86d9-4e37-f892-f173def6112b",
        "colab": {
          "base_uri": "https://localhost:8080/"
        }
      },
      "execution_count": null,
      "outputs": [
        {
          "output_type": "stream",
          "name": "stdout",
          "text": [
            "<class 'pandas.core.frame.DataFrame'>\n",
            "RangeIndex: 24049 entries, 0 to 24048\n",
            "Data columns (total 33 columns):\n",
            " #   Column                                                 Non-Null Count  Dtype         \n",
            "---  ------                                                 --------------  -----         \n",
            " 0   TimeThirty                                             24049 non-null  object        \n",
            " 1   DAT                                                    24049 non-null  object        \n",
            " 2   Торговая точка                                         24049 non-null  object        \n",
            " 3   Касса                                                  24049 non-null  int64         \n",
            " 4   orgtype                                                24049 non-null  object        \n",
            " 5   terminal                                               24049 non-null  object        \n",
            " 6   tzone                                                  24049 non-null  object        \n",
            " 7   TotalSumm                                              24049 non-null  float64       \n",
            " 8   День недели                                            24049 non-null  object        \n",
            " 9   TimeThirty2                                            24049 non-null  datetime64[ns]\n",
            " 10  T                                                      24049 non-null  int64         \n",
            " 11  P0                                                     24049 non-null  float64       \n",
            " 12  P                                                      24049 non-null  float64       \n",
            " 13  U                                                      24049 non-null  int64         \n",
            " 14  DD                                                     24049 non-null  object        \n",
            " 15  Ff                                                     24049 non-null  int64         \n",
            " 16  WW                                                     24049 non-null  object        \n",
            " 17  W'W'                                                   24049 non-null  object        \n",
            " 18  c                                                      24049 non-null  object        \n",
            " 19  VV                                                     24049 non-null  object        \n",
            " 20  Td                                                     24049 non-null  int64         \n",
            " 21  Кол-во рейсов вылет                                    5853 non-null   float64       \n",
            " 22  Среднее время ожидания                                 5853 non-null   float64       \n",
            " 23  Среднее время ожидания в часах                         5853 non-null   object        \n",
            " 24  Суммарное время ожидания в часах                       5853 non-null   object        \n",
            " 25  Суммарное время ожидания                               5853 non-null   float64       \n",
            " 26  Макс время ожидания                                    5853 non-null   float64       \n",
            " 27  Кол-во рейсов вылет по рассписанию                     23172 non-null  float64       \n",
            " 28  Среднее время ожидания между прилет и вылет            23172 non-null  float64       \n",
            " 29  Среднее время ожидания в часах между прилет и вылет    23172 non-null  object        \n",
            " 30  Суммарное время ожидания в  между прилет и вылет       23172 non-null  float64       \n",
            " 31  Суммарное время ожидания в часах между прилет и вылет  23172 non-null  object        \n",
            " 32  Макс время ожидания между прилет и вылет               23172 non-null  float64       \n",
            "dtypes: datetime64[ns](1), float64(11), int64(5), object(16)\n",
            "memory usage: 6.1+ MB\n"
          ]
        }
      ]
    },
    {
      "cell_type": "code",
      "source": [
        "df_pas.head(3)"
      ],
      "metadata": {
        "colab": {
          "base_uri": "https://localhost:8080/"
        },
        "outputId": "22928191-a5b4-4403-dd3c-3d1938e9f0b0",
        "id": "y8bEhDOj7Bvj"
      },
      "execution_count": null,
      "outputs": [
        {
          "output_type": "execute_result",
          "data": {
            "text/plain": [
              "  Выход в чз окр дата и время окр вверх Выход на рейс дата и время окр вниз  \\\n",
              "0               2022-04-30 07:00:00.288                 2022-05-01 01:00:00   \n",
              "1               2022-04-30 13:00:00.288                 2022-05-01 10:30:00   \n",
              "2               2022-04-30 13:59:59.712                 2022-05-01 01:00:00   \n",
              "\n",
              "  Дата рейса     Рейс  Вход в чистую зону       Выход на рейс Терминал  \\\n",
              "0 2022-05-01  SU 1512 2022-04-30 06:43:23 2022-05-01 01:17:00        B   \n",
              "1 2022-05-01   N4 245 2022-04-30 12:49:49 2022-05-01 10:35:00        B   \n",
              "2 2022-05-01  SU 1508 2022-04-30 13:39:37 2022-05-01 01:15:00        B   \n",
              "\n",
              "  Авиакомпания Направление куда летит Вход в чз дата Время выхода в чист зону  \\\n",
              "0           SU                    SGC     2022-04-30                 06:43:23   \n",
              "1           N4                    AER     2022-04-30                 12:49:49   \n",
              "2           SU                    TJM     2022-04-30                 13:39:37   \n",
              "\n",
              "  Выход на рейс дата Выход на рейс время Разница входа в чз и выхода на рейс  \\\n",
              "0         2022-05-01            01:17:00                            18:33:37   \n",
              "1         2022-05-01            10:35:00                            21:45:11   \n",
              "2         2022-05-01            01:15:00                            11:35:23   \n",
              "\n",
              "  День недели Окр вр входа чз вверх Окр вр входа чз вниз  \\\n",
              "0         ддд              07:00:00             06:30:00   \n",
              "1         ддд              13:00:00             12:30:00   \n",
              "2         ддд              14:00:00             13:30:00   \n",
              "\n",
              "  Выход на рейс время окр вниз  \n",
              "0                     01:00:00  \n",
              "1                     10:30:00  \n",
              "2                     01:00:00  "
            ],
            "text/html": [
              "\n",
              "  <div id=\"df-c9f22a63-1cec-4f53-a84e-bd5a72d4b490\">\n",
              "    <div class=\"colab-df-container\">\n",
              "      <div>\n",
              "<style scoped>\n",
              "    .dataframe tbody tr th:only-of-type {\n",
              "        vertical-align: middle;\n",
              "    }\n",
              "\n",
              "    .dataframe tbody tr th {\n",
              "        vertical-align: top;\n",
              "    }\n",
              "\n",
              "    .dataframe thead th {\n",
              "        text-align: right;\n",
              "    }\n",
              "</style>\n",
              "<table border=\"1\" class=\"dataframe\">\n",
              "  <thead>\n",
              "    <tr style=\"text-align: right;\">\n",
              "      <th></th>\n",
              "      <th>Выход в чз окр дата и время окр вверх</th>\n",
              "      <th>Выход на рейс дата и время окр вниз</th>\n",
              "      <th>Дата рейса</th>\n",
              "      <th>Рейс</th>\n",
              "      <th>Вход в чистую зону</th>\n",
              "      <th>Выход на рейс</th>\n",
              "      <th>Терминал</th>\n",
              "      <th>Авиакомпания</th>\n",
              "      <th>Направление куда летит</th>\n",
              "      <th>Вход в чз дата</th>\n",
              "      <th>Время выхода в чист зону</th>\n",
              "      <th>Выход на рейс дата</th>\n",
              "      <th>Выход на рейс время</th>\n",
              "      <th>Разница входа в чз и выхода на рейс</th>\n",
              "      <th>День недели</th>\n",
              "      <th>Окр вр входа чз вверх</th>\n",
              "      <th>Окр вр входа чз вниз</th>\n",
              "      <th>Выход на рейс время окр вниз</th>\n",
              "    </tr>\n",
              "  </thead>\n",
              "  <tbody>\n",
              "    <tr>\n",
              "      <th>0</th>\n",
              "      <td>2022-04-30 07:00:00.288</td>\n",
              "      <td>2022-05-01 01:00:00</td>\n",
              "      <td>2022-05-01</td>\n",
              "      <td>SU 1512</td>\n",
              "      <td>2022-04-30 06:43:23</td>\n",
              "      <td>2022-05-01 01:17:00</td>\n",
              "      <td>B</td>\n",
              "      <td>SU</td>\n",
              "      <td>SGC</td>\n",
              "      <td>2022-04-30</td>\n",
              "      <td>06:43:23</td>\n",
              "      <td>2022-05-01</td>\n",
              "      <td>01:17:00</td>\n",
              "      <td>18:33:37</td>\n",
              "      <td>ддд</td>\n",
              "      <td>07:00:00</td>\n",
              "      <td>06:30:00</td>\n",
              "      <td>01:00:00</td>\n",
              "    </tr>\n",
              "    <tr>\n",
              "      <th>1</th>\n",
              "      <td>2022-04-30 13:00:00.288</td>\n",
              "      <td>2022-05-01 10:30:00</td>\n",
              "      <td>2022-05-01</td>\n",
              "      <td>N4 245</td>\n",
              "      <td>2022-04-30 12:49:49</td>\n",
              "      <td>2022-05-01 10:35:00</td>\n",
              "      <td>B</td>\n",
              "      <td>N4</td>\n",
              "      <td>AER</td>\n",
              "      <td>2022-04-30</td>\n",
              "      <td>12:49:49</td>\n",
              "      <td>2022-05-01</td>\n",
              "      <td>10:35:00</td>\n",
              "      <td>21:45:11</td>\n",
              "      <td>ддд</td>\n",
              "      <td>13:00:00</td>\n",
              "      <td>12:30:00</td>\n",
              "      <td>10:30:00</td>\n",
              "    </tr>\n",
              "    <tr>\n",
              "      <th>2</th>\n",
              "      <td>2022-04-30 13:59:59.712</td>\n",
              "      <td>2022-05-01 01:00:00</td>\n",
              "      <td>2022-05-01</td>\n",
              "      <td>SU 1508</td>\n",
              "      <td>2022-04-30 13:39:37</td>\n",
              "      <td>2022-05-01 01:15:00</td>\n",
              "      <td>B</td>\n",
              "      <td>SU</td>\n",
              "      <td>TJM</td>\n",
              "      <td>2022-04-30</td>\n",
              "      <td>13:39:37</td>\n",
              "      <td>2022-05-01</td>\n",
              "      <td>01:15:00</td>\n",
              "      <td>11:35:23</td>\n",
              "      <td>ддд</td>\n",
              "      <td>14:00:00</td>\n",
              "      <td>13:30:00</td>\n",
              "      <td>01:00:00</td>\n",
              "    </tr>\n",
              "  </tbody>\n",
              "</table>\n",
              "</div>\n",
              "      <button class=\"colab-df-convert\" onclick=\"convertToInteractive('df-c9f22a63-1cec-4f53-a84e-bd5a72d4b490')\"\n",
              "              title=\"Convert this dataframe to an interactive table.\"\n",
              "              style=\"display:none;\">\n",
              "        \n",
              "  <svg xmlns=\"http://www.w3.org/2000/svg\" height=\"24px\"viewBox=\"0 0 24 24\"\n",
              "       width=\"24px\">\n",
              "    <path d=\"M0 0h24v24H0V0z\" fill=\"none\"/>\n",
              "    <path d=\"M18.56 5.44l.94 2.06.94-2.06 2.06-.94-2.06-.94-.94-2.06-.94 2.06-2.06.94zm-11 1L8.5 8.5l.94-2.06 2.06-.94-2.06-.94L8.5 2.5l-.94 2.06-2.06.94zm10 10l.94 2.06.94-2.06 2.06-.94-2.06-.94-.94-2.06-.94 2.06-2.06.94z\"/><path d=\"M17.41 7.96l-1.37-1.37c-.4-.4-.92-.59-1.43-.59-.52 0-1.04.2-1.43.59L10.3 9.45l-7.72 7.72c-.78.78-.78 2.05 0 2.83L4 21.41c.39.39.9.59 1.41.59.51 0 1.02-.2 1.41-.59l7.78-7.78 2.81-2.81c.8-.78.8-2.07 0-2.86zM5.41 20L4 18.59l7.72-7.72 1.47 1.35L5.41 20z\"/>\n",
              "  </svg>\n",
              "      </button>\n",
              "      \n",
              "  <style>\n",
              "    .colab-df-container {\n",
              "      display:flex;\n",
              "      flex-wrap:wrap;\n",
              "      gap: 12px;\n",
              "    }\n",
              "\n",
              "    .colab-df-convert {\n",
              "      background-color: #E8F0FE;\n",
              "      border: none;\n",
              "      border-radius: 50%;\n",
              "      cursor: pointer;\n",
              "      display: none;\n",
              "      fill: #1967D2;\n",
              "      height: 32px;\n",
              "      padding: 0 0 0 0;\n",
              "      width: 32px;\n",
              "    }\n",
              "\n",
              "    .colab-df-convert:hover {\n",
              "      background-color: #E2EBFA;\n",
              "      box-shadow: 0px 1px 2px rgba(60, 64, 67, 0.3), 0px 1px 3px 1px rgba(60, 64, 67, 0.15);\n",
              "      fill: #174EA6;\n",
              "    }\n",
              "\n",
              "    [theme=dark] .colab-df-convert {\n",
              "      background-color: #3B4455;\n",
              "      fill: #D2E3FC;\n",
              "    }\n",
              "\n",
              "    [theme=dark] .colab-df-convert:hover {\n",
              "      background-color: #434B5C;\n",
              "      box-shadow: 0px 1px 3px 1px rgba(0, 0, 0, 0.15);\n",
              "      filter: drop-shadow(0px 1px 2px rgba(0, 0, 0, 0.3));\n",
              "      fill: #FFFFFF;\n",
              "    }\n",
              "  </style>\n",
              "\n",
              "      <script>\n",
              "        const buttonEl =\n",
              "          document.querySelector('#df-c9f22a63-1cec-4f53-a84e-bd5a72d4b490 button.colab-df-convert');\n",
              "        buttonEl.style.display =\n",
              "          google.colab.kernel.accessAllowed ? 'block' : 'none';\n",
              "\n",
              "        async function convertToInteractive(key) {\n",
              "          const element = document.querySelector('#df-c9f22a63-1cec-4f53-a84e-bd5a72d4b490');\n",
              "          const dataTable =\n",
              "            await google.colab.kernel.invokeFunction('convertToInteractive',\n",
              "                                                     [key], {});\n",
              "          if (!dataTable) return;\n",
              "\n",
              "          const docLinkHtml = 'Like what you see? Visit the ' +\n",
              "            '<a target=\"_blank\" href=https://colab.research.google.com/notebooks/data_table.ipynb>data table notebook</a>'\n",
              "            + ' to learn more about interactive tables.';\n",
              "          element.innerHTML = '';\n",
              "          dataTable['output_type'] = 'display_data';\n",
              "          await google.colab.output.renderOutput(dataTable, element);\n",
              "          const docLink = document.createElement('div');\n",
              "          docLink.innerHTML = docLinkHtml;\n",
              "          element.appendChild(docLink);\n",
              "        }\n",
              "      </script>\n",
              "    </div>\n",
              "  </div>\n",
              "  "
            ]
          },
          "metadata": {},
          "execution_count": 13
        }
      ]
    },
    {
      "cell_type": "code",
      "source": [
        "df_pas.shape"
      ],
      "metadata": {
        "colab": {
          "base_uri": "https://localhost:8080/"
        },
        "outputId": "5cb540cc-74d9-407b-c267-f68ea8e468f6",
        "id": "gDA1LcTZ7Bvk"
      },
      "execution_count": null,
      "outputs": [
        {
          "output_type": "execute_result",
          "data": {
            "text/plain": [
              "(145151, 18)"
            ]
          },
          "metadata": {},
          "execution_count": 14
        }
      ]
    },
    {
      "cell_type": "code",
      "source": [
        "df_pas.info()"
      ],
      "metadata": {
        "colab": {
          "base_uri": "https://localhost:8080/"
        },
        "id": "Q9h0xFn0kAKr",
        "outputId": "0d27c0c5-e8e5-45c4-831a-1cf65ab40374"
      },
      "execution_count": null,
      "outputs": [
        {
          "output_type": "stream",
          "name": "stdout",
          "text": [
            "<class 'pandas.core.frame.DataFrame'>\n",
            "RangeIndex: 145151 entries, 0 to 145150\n",
            "Data columns (total 18 columns):\n",
            " #   Column                                 Non-Null Count   Dtype         \n",
            "---  ------                                 --------------   -----         \n",
            " 0   Выход в чз окр дата и время окр вверх  145151 non-null  datetime64[ns]\n",
            " 1   Выход на рейс дата и время окр вниз    145151 non-null  datetime64[ns]\n",
            " 2   Дата рейса                             145151 non-null  datetime64[ns]\n",
            " 3   Рейс                                   145151 non-null  object        \n",
            " 4   Вход в чистую зону                     145151 non-null  datetime64[ns]\n",
            " 5   Выход на рейс                          145151 non-null  datetime64[ns]\n",
            " 6   Терминал                               145151 non-null  object        \n",
            " 7   Авиакомпания                           145151 non-null  object        \n",
            " 8   Направление куда летит                 145151 non-null  object        \n",
            " 9   Вход в чз дата                         145151 non-null  datetime64[ns]\n",
            " 10  Время выхода в чист зону               145151 non-null  object        \n",
            " 11  Выход на рейс дата                     145151 non-null  datetime64[ns]\n",
            " 12  Выход на рейс время                    145151 non-null  object        \n",
            " 13  Разница входа в чз и выхода на рейс    145151 non-null  object        \n",
            " 14  День недели                            145151 non-null  object        \n",
            " 15  Окр вр входа чз вверх                  145151 non-null  object        \n",
            " 16  Окр вр входа чз вниз                   145151 non-null  object        \n",
            " 17  Выход на рейс время окр вниз           145151 non-null  object        \n",
            "dtypes: datetime64[ns](7), object(11)\n",
            "memory usage: 19.9+ MB\n"
          ]
        }
      ]
    },
    {
      "cell_type": "code",
      "source": [
        "df_table.head(3)"
      ],
      "metadata": {
        "colab": {
          "base_uri": "https://localhost:8080/"
        },
        "outputId": "8a775b7d-6d5e-4e3e-8fa3-bf8a65ef55c5",
        "id": "8duHfOlt7Bvl"
      },
      "execution_count": null,
      "outputs": [
        {
          "output_type": "execute_result",
          "data": {
            "text/plain": [
              "  Дата и время призем окр вверх Дата и время вылета окр вверх  \\\n",
              "0           2022-05-01 16:00:00           2022-05-02 06:30:00   \n",
              "1           2022-05-01 22:30:00           2022-05-02 06:30:00   \n",
              "2           2022-05-01 13:30:00           2022-05-01 15:00:00   \n",
              "\n",
              "  Дата прилёта рейса Тип Самолёта АВИАКОМПАНИЯ Регестрационный номер Прилёт  \\\n",
              "0         2022-05-01          32N           SU               73732.0    INB   \n",
              "1         2022-05-01          32A           SU               73179.0    INB   \n",
              "2         2022-05-01          SU9           SU               89026.0    INB   \n",
              "\n",
              "  Прилёт Рейс   время приземления код аэропорта прилёт Вылет Вылет рейс  \\\n",
              "0     SU 1463 2022-05-01 15:41:00                  OVB   OUT    SU 1462   \n",
              "1     SU 1249 2022-05-01 22:16:00                  REN   OUT    SU 1246   \n",
              "2     SU 1391 2022-05-01 13:27:00                  SCW   OUT    SU 1434   \n",
              "\n",
              "         время вылета Код аэропорта вылет Дата приземления Время приземления  \\\n",
              "0 2022-05-02 06:21:00                 OVB       2022-05-01          15:41:00   \n",
              "1 2022-05-02 06:28:00                 REN       2022-05-01          22:16:00   \n",
              "2 2022-05-01 14:57:00                 MQF       2022-05-01          13:27:00   \n",
              "\n",
              "  Дата вылета Время вылета Окр вр призем вверх Окр вр призем вниз  \\\n",
              "0  2022-05-02     06:21:00            16:00:00           15:30:00   \n",
              "1  2022-05-02     06:28:00            22:30:00           22:00:00   \n",
              "2  2022-05-01     14:57:00            13:30:00           13:00:00   \n",
              "\n",
              "  Время вылета окр вверх Дата и время вылета окр вверх.1  \\\n",
              "0               06:30:00         2022-05-02 06:29:59.712   \n",
              "1               06:30:00         2022-05-02 06:29:59.712   \n",
              "2               15:00:00         2022-05-01 15:00:00.000   \n",
              "\n",
              "  Дата и время призем окр вверх.1 Разница времени приземления и вылета  \n",
              "0         2022-05-01 16:00:00.288                             14:40:00  \n",
              "1         2022-05-01 22:30:00.000                             08:12:00  \n",
              "2         2022-05-01 13:30:00.000                             01:30:00  "
            ],
            "text/html": [
              "\n",
              "  <div id=\"df-5144d413-5853-4f89-ac6d-320a93033098\">\n",
              "    <div class=\"colab-df-container\">\n",
              "      <div>\n",
              "<style scoped>\n",
              "    .dataframe tbody tr th:only-of-type {\n",
              "        vertical-align: middle;\n",
              "    }\n",
              "\n",
              "    .dataframe tbody tr th {\n",
              "        vertical-align: top;\n",
              "    }\n",
              "\n",
              "    .dataframe thead th {\n",
              "        text-align: right;\n",
              "    }\n",
              "</style>\n",
              "<table border=\"1\" class=\"dataframe\">\n",
              "  <thead>\n",
              "    <tr style=\"text-align: right;\">\n",
              "      <th></th>\n",
              "      <th>Дата и время призем окр вверх</th>\n",
              "      <th>Дата и время вылета окр вверх</th>\n",
              "      <th>Дата прилёта рейса</th>\n",
              "      <th>Тип Самолёта</th>\n",
              "      <th>АВИАКОМПАНИЯ</th>\n",
              "      <th>Регестрационный номер</th>\n",
              "      <th>Прилёт</th>\n",
              "      <th>Прилёт Рейс</th>\n",
              "      <th>время приземления</th>\n",
              "      <th>код аэропорта прилёт</th>\n",
              "      <th>Вылет</th>\n",
              "      <th>Вылет рейс</th>\n",
              "      <th>время вылета</th>\n",
              "      <th>Код аэропорта вылет</th>\n",
              "      <th>Дата приземления</th>\n",
              "      <th>Время приземления</th>\n",
              "      <th>Дата вылета</th>\n",
              "      <th>Время вылета</th>\n",
              "      <th>Окр вр призем вверх</th>\n",
              "      <th>Окр вр призем вниз</th>\n",
              "      <th>Время вылета окр вверх</th>\n",
              "      <th>Дата и время вылета окр вверх.1</th>\n",
              "      <th>Дата и время призем окр вверх.1</th>\n",
              "      <th>Разница времени приземления и вылета</th>\n",
              "    </tr>\n",
              "  </thead>\n",
              "  <tbody>\n",
              "    <tr>\n",
              "      <th>0</th>\n",
              "      <td>2022-05-01 16:00:00</td>\n",
              "      <td>2022-05-02 06:30:00</td>\n",
              "      <td>2022-05-01</td>\n",
              "      <td>32N</td>\n",
              "      <td>SU</td>\n",
              "      <td>73732.0</td>\n",
              "      <td>INB</td>\n",
              "      <td>SU 1463</td>\n",
              "      <td>2022-05-01 15:41:00</td>\n",
              "      <td>OVB</td>\n",
              "      <td>OUT</td>\n",
              "      <td>SU 1462</td>\n",
              "      <td>2022-05-02 06:21:00</td>\n",
              "      <td>OVB</td>\n",
              "      <td>2022-05-01</td>\n",
              "      <td>15:41:00</td>\n",
              "      <td>2022-05-02</td>\n",
              "      <td>06:21:00</td>\n",
              "      <td>16:00:00</td>\n",
              "      <td>15:30:00</td>\n",
              "      <td>06:30:00</td>\n",
              "      <td>2022-05-02 06:29:59.712</td>\n",
              "      <td>2022-05-01 16:00:00.288</td>\n",
              "      <td>14:40:00</td>\n",
              "    </tr>\n",
              "    <tr>\n",
              "      <th>1</th>\n",
              "      <td>2022-05-01 22:30:00</td>\n",
              "      <td>2022-05-02 06:30:00</td>\n",
              "      <td>2022-05-01</td>\n",
              "      <td>32A</td>\n",
              "      <td>SU</td>\n",
              "      <td>73179.0</td>\n",
              "      <td>INB</td>\n",
              "      <td>SU 1249</td>\n",
              "      <td>2022-05-01 22:16:00</td>\n",
              "      <td>REN</td>\n",
              "      <td>OUT</td>\n",
              "      <td>SU 1246</td>\n",
              "      <td>2022-05-02 06:28:00</td>\n",
              "      <td>REN</td>\n",
              "      <td>2022-05-01</td>\n",
              "      <td>22:16:00</td>\n",
              "      <td>2022-05-02</td>\n",
              "      <td>06:28:00</td>\n",
              "      <td>22:30:00</td>\n",
              "      <td>22:00:00</td>\n",
              "      <td>06:30:00</td>\n",
              "      <td>2022-05-02 06:29:59.712</td>\n",
              "      <td>2022-05-01 22:30:00.000</td>\n",
              "      <td>08:12:00</td>\n",
              "    </tr>\n",
              "    <tr>\n",
              "      <th>2</th>\n",
              "      <td>2022-05-01 13:30:00</td>\n",
              "      <td>2022-05-01 15:00:00</td>\n",
              "      <td>2022-05-01</td>\n",
              "      <td>SU9</td>\n",
              "      <td>SU</td>\n",
              "      <td>89026.0</td>\n",
              "      <td>INB</td>\n",
              "      <td>SU 1391</td>\n",
              "      <td>2022-05-01 13:27:00</td>\n",
              "      <td>SCW</td>\n",
              "      <td>OUT</td>\n",
              "      <td>SU 1434</td>\n",
              "      <td>2022-05-01 14:57:00</td>\n",
              "      <td>MQF</td>\n",
              "      <td>2022-05-01</td>\n",
              "      <td>13:27:00</td>\n",
              "      <td>2022-05-01</td>\n",
              "      <td>14:57:00</td>\n",
              "      <td>13:30:00</td>\n",
              "      <td>13:00:00</td>\n",
              "      <td>15:00:00</td>\n",
              "      <td>2022-05-01 15:00:00.000</td>\n",
              "      <td>2022-05-01 13:30:00.000</td>\n",
              "      <td>01:30:00</td>\n",
              "    </tr>\n",
              "  </tbody>\n",
              "</table>\n",
              "</div>\n",
              "      <button class=\"colab-df-convert\" onclick=\"convertToInteractive('df-5144d413-5853-4f89-ac6d-320a93033098')\"\n",
              "              title=\"Convert this dataframe to an interactive table.\"\n",
              "              style=\"display:none;\">\n",
              "        \n",
              "  <svg xmlns=\"http://www.w3.org/2000/svg\" height=\"24px\"viewBox=\"0 0 24 24\"\n",
              "       width=\"24px\">\n",
              "    <path d=\"M0 0h24v24H0V0z\" fill=\"none\"/>\n",
              "    <path d=\"M18.56 5.44l.94 2.06.94-2.06 2.06-.94-2.06-.94-.94-2.06-.94 2.06-2.06.94zm-11 1L8.5 8.5l.94-2.06 2.06-.94-2.06-.94L8.5 2.5l-.94 2.06-2.06.94zm10 10l.94 2.06.94-2.06 2.06-.94-2.06-.94-.94-2.06-.94 2.06-2.06.94z\"/><path d=\"M17.41 7.96l-1.37-1.37c-.4-.4-.92-.59-1.43-.59-.52 0-1.04.2-1.43.59L10.3 9.45l-7.72 7.72c-.78.78-.78 2.05 0 2.83L4 21.41c.39.39.9.59 1.41.59.51 0 1.02-.2 1.41-.59l7.78-7.78 2.81-2.81c.8-.78.8-2.07 0-2.86zM5.41 20L4 18.59l7.72-7.72 1.47 1.35L5.41 20z\"/>\n",
              "  </svg>\n",
              "      </button>\n",
              "      \n",
              "  <style>\n",
              "    .colab-df-container {\n",
              "      display:flex;\n",
              "      flex-wrap:wrap;\n",
              "      gap: 12px;\n",
              "    }\n",
              "\n",
              "    .colab-df-convert {\n",
              "      background-color: #E8F0FE;\n",
              "      border: none;\n",
              "      border-radius: 50%;\n",
              "      cursor: pointer;\n",
              "      display: none;\n",
              "      fill: #1967D2;\n",
              "      height: 32px;\n",
              "      padding: 0 0 0 0;\n",
              "      width: 32px;\n",
              "    }\n",
              "\n",
              "    .colab-df-convert:hover {\n",
              "      background-color: #E2EBFA;\n",
              "      box-shadow: 0px 1px 2px rgba(60, 64, 67, 0.3), 0px 1px 3px 1px rgba(60, 64, 67, 0.15);\n",
              "      fill: #174EA6;\n",
              "    }\n",
              "\n",
              "    [theme=dark] .colab-df-convert {\n",
              "      background-color: #3B4455;\n",
              "      fill: #D2E3FC;\n",
              "    }\n",
              "\n",
              "    [theme=dark] .colab-df-convert:hover {\n",
              "      background-color: #434B5C;\n",
              "      box-shadow: 0px 1px 3px 1px rgba(0, 0, 0, 0.15);\n",
              "      filter: drop-shadow(0px 1px 2px rgba(0, 0, 0, 0.3));\n",
              "      fill: #FFFFFF;\n",
              "    }\n",
              "  </style>\n",
              "\n",
              "      <script>\n",
              "        const buttonEl =\n",
              "          document.querySelector('#df-5144d413-5853-4f89-ac6d-320a93033098 button.colab-df-convert');\n",
              "        buttonEl.style.display =\n",
              "          google.colab.kernel.accessAllowed ? 'block' : 'none';\n",
              "\n",
              "        async function convertToInteractive(key) {\n",
              "          const element = document.querySelector('#df-5144d413-5853-4f89-ac6d-320a93033098');\n",
              "          const dataTable =\n",
              "            await google.colab.kernel.invokeFunction('convertToInteractive',\n",
              "                                                     [key], {});\n",
              "          if (!dataTable) return;\n",
              "\n",
              "          const docLinkHtml = 'Like what you see? Visit the ' +\n",
              "            '<a target=\"_blank\" href=https://colab.research.google.com/notebooks/data_table.ipynb>data table notebook</a>'\n",
              "            + ' to learn more about interactive tables.';\n",
              "          element.innerHTML = '';\n",
              "          dataTable['output_type'] = 'display_data';\n",
              "          await google.colab.output.renderOutput(dataTable, element);\n",
              "          const docLink = document.createElement('div');\n",
              "          docLink.innerHTML = docLinkHtml;\n",
              "          element.appendChild(docLink);\n",
              "        }\n",
              "      </script>\n",
              "    </div>\n",
              "  </div>\n",
              "  "
            ]
          },
          "metadata": {},
          "execution_count": 16
        }
      ]
    },
    {
      "cell_type": "code",
      "source": [
        "df_table.shape"
      ],
      "metadata": {
        "colab": {
          "base_uri": "https://localhost:8080/"
        },
        "outputId": "48a5c1f3-a141-4f66-b250-d61af2f21b44",
        "id": "QGH0-9Lx7Bvl"
      },
      "execution_count": null,
      "outputs": [
        {
          "output_type": "execute_result",
          "data": {
            "text/plain": [
              "(16120, 24)"
            ]
          },
          "metadata": {},
          "execution_count": 17
        }
      ]
    },
    {
      "cell_type": "code",
      "source": [
        "df_table.info()"
      ],
      "metadata": {
        "colab": {
          "base_uri": "https://localhost:8080/"
        },
        "id": "bxkHZ81tkqrr",
        "outputId": "522341b4-4499-4986-dab6-ac84815c0bd1"
      },
      "execution_count": null,
      "outputs": [
        {
          "output_type": "stream",
          "name": "stdout",
          "text": [
            "<class 'pandas.core.frame.DataFrame'>\n",
            "RangeIndex: 16120 entries, 0 to 16119\n",
            "Data columns (total 24 columns):\n",
            " #   Column                                Non-Null Count  Dtype         \n",
            "---  ------                                --------------  -----         \n",
            " 0   Дата и время призем окр вверх         16120 non-null  datetime64[ns]\n",
            " 1   Дата и время вылета окр вверх         16120 non-null  datetime64[ns]\n",
            " 2   Дата прилёта рейса                    16120 non-null  datetime64[ns]\n",
            " 3   Тип Самолёта                          16120 non-null  object        \n",
            " 4   АВИАКОМПАНИЯ                          16120 non-null  object        \n",
            " 5   Регестрационный номер                 16120 non-null  object        \n",
            " 6   Прилёт                                16120 non-null  object        \n",
            " 7   Прилёт Рейс                           16120 non-null  object        \n",
            " 8   время приземления                     16120 non-null  datetime64[ns]\n",
            " 9   код аэропорта прилёт                  16120 non-null  object        \n",
            " 10  Вылет                                 16120 non-null  object        \n",
            " 11  Вылет рейс                            16120 non-null  object        \n",
            " 12  время вылета                          16120 non-null  datetime64[ns]\n",
            " 13  Код аэропорта вылет                   16120 non-null  object        \n",
            " 14  Дата приземления                      16120 non-null  datetime64[ns]\n",
            " 15  Время приземления                     16120 non-null  object        \n",
            " 16  Дата вылета                           16120 non-null  datetime64[ns]\n",
            " 17  Время вылета                          16120 non-null  object        \n",
            " 18  Окр вр призем вверх                   16120 non-null  object        \n",
            " 19  Окр вр призем вниз                    16120 non-null  object        \n",
            " 20  Время вылета окр вверх                16120 non-null  object        \n",
            " 21  Дата и время вылета окр вверх.1       16120 non-null  datetime64[ns]\n",
            " 22  Дата и время призем окр вверх.1       16120 non-null  datetime64[ns]\n",
            " 23  Разница времени приземления и вылета  16120 non-null  object        \n",
            "dtypes: datetime64[ns](9), object(15)\n",
            "memory usage: 3.0+ MB\n"
          ]
        }
      ]
    },
    {
      "cell_type": "markdown",
      "source": [
        "# Анализ"
      ],
      "metadata": {
        "id": "AK7MsGSICkzM"
      }
    },
    {
      "cell_type": "code",
      "source": [
        "df_Union.head(3)"
      ],
      "metadata": {
        "colab": {
          "base_uri": "https://localhost:8080/",
          "height": 520
        },
        "id": "WL6FRfyfkrhd",
        "outputId": "4a18a8c8-445c-43f1-b0b8-7cc9a6a6801d"
      },
      "execution_count": null,
      "outputs": [
        {
          "output_type": "execute_result",
          "data": {
            "text/plain": [
              "                TimeThirty         DAT       Торговая точка  Касса  orgtype  \\\n",
              "0  2022-05-01 00:00:00.000  2022-05-01  Торговая точка 0601   7683  Общепит   \n",
              "1  2022-05-01 00:00:00.000  2022-05-01  Торговая точка 8313   2251  Общепит   \n",
              "2  2022-05-01 00:00:00.000  2022-05-01  Торговая точка 8313    538  Общепит   \n",
              "\n",
              "  terminal                  tzone  TotalSumm День недели TimeThirty2  T    P0  \\\n",
              "0        B  Чистая зона ВВЛ-вылет   755448.0          Вс  2022-05-01  2 749.7   \n",
              "1        B  Чистая зона ВВЛ-вылет    44560.0          Вс  2022-05-01  2 749.7   \n",
              "2        B  Чистая зона ВВЛ-вылет   242160.0          Вс  2022-05-01  2 749.7   \n",
              "\n",
              "      P   U                             DD  Ff   WW W'W'  \\\n",
              "0 767.3  65  Ветер, дующий с северо-запада   1  нет  нет   \n",
              "1 767.3  65  Ветер, дующий с северо-запада   1  нет  нет   \n",
              "2 767.3  65  Ветер, дующий с северо-запада   1  нет  нет   \n",
              "\n",
              "                             c            VV  Td  Кол-во рейсов вылет  \\\n",
              "0  Нет существенной облачности  10.0 и более  -4                583.0   \n",
              "1  Нет существенной облачности  10.0 и более  -4                583.0   \n",
              "2  Нет существенной облачности  10.0 и более  -4                583.0   \n",
              "\n",
              "   Среднее время ожидания Среднее время ожидания в часах  \\\n",
              "0                     0.1                01:52:26.760000   \n",
              "1                     0.1                01:52:26.760000   \n",
              "2                     0.1                01:52:26.760000   \n",
              "\n",
              "  Суммарное время ожидания в часах  Суммарное время ожидания  \\\n",
              "0              1900-02-14 12:36:01                      45.5   \n",
              "1              1900-02-14 12:36:01                      45.5   \n",
              "2              1900-02-14 12:36:01                      45.5   \n",
              "\n",
              "   Макс время ожидания  Кол-во рейсов вылет по рассписанию  \\\n",
              "0                  0.3                                 NaN   \n",
              "1                  0.3                                 NaN   \n",
              "2                  0.3                                 NaN   \n",
              "\n",
              "   Среднее время ожидания между прилет и вылет  \\\n",
              "0                                          NaN   \n",
              "1                                          NaN   \n",
              "2                                          NaN   \n",
              "\n",
              "  Среднее время ожидания в часах между прилет и вылет  \\\n",
              "0                                                NaN    \n",
              "1                                                NaN    \n",
              "2                                                NaN    \n",
              "\n",
              "   Суммарное время ожидания в  между прилет и вылет  \\\n",
              "0                                               NaN   \n",
              "1                                               NaN   \n",
              "2                                               NaN   \n",
              "\n",
              "  Суммарное время ожидания в часах между прилет и вылет  \\\n",
              "0                                                NaN      \n",
              "1                                                NaN      \n",
              "2                                                NaN      \n",
              "\n",
              "   Макс время ожидания между прилет и вылет  \n",
              "0                                       NaN  \n",
              "1                                       NaN  \n",
              "2                                       NaN  "
            ],
            "text/html": [
              "\n",
              "  <div id=\"df-1c278d3f-9a17-4b9a-addd-5670cdd7b91c\">\n",
              "    <div class=\"colab-df-container\">\n",
              "      <div>\n",
              "<style scoped>\n",
              "    .dataframe tbody tr th:only-of-type {\n",
              "        vertical-align: middle;\n",
              "    }\n",
              "\n",
              "    .dataframe tbody tr th {\n",
              "        vertical-align: top;\n",
              "    }\n",
              "\n",
              "    .dataframe thead th {\n",
              "        text-align: right;\n",
              "    }\n",
              "</style>\n",
              "<table border=\"1\" class=\"dataframe\">\n",
              "  <thead>\n",
              "    <tr style=\"text-align: right;\">\n",
              "      <th></th>\n",
              "      <th>TimeThirty</th>\n",
              "      <th>DAT</th>\n",
              "      <th>Торговая точка</th>\n",
              "      <th>Касса</th>\n",
              "      <th>orgtype</th>\n",
              "      <th>terminal</th>\n",
              "      <th>tzone</th>\n",
              "      <th>TotalSumm</th>\n",
              "      <th>День недели</th>\n",
              "      <th>TimeThirty2</th>\n",
              "      <th>T</th>\n",
              "      <th>P0</th>\n",
              "      <th>P</th>\n",
              "      <th>U</th>\n",
              "      <th>DD</th>\n",
              "      <th>Ff</th>\n",
              "      <th>WW</th>\n",
              "      <th>W'W'</th>\n",
              "      <th>c</th>\n",
              "      <th>VV</th>\n",
              "      <th>Td</th>\n",
              "      <th>Кол-во рейсов вылет</th>\n",
              "      <th>Среднее время ожидания</th>\n",
              "      <th>Среднее время ожидания в часах</th>\n",
              "      <th>Суммарное время ожидания в часах</th>\n",
              "      <th>Суммарное время ожидания</th>\n",
              "      <th>Макс время ожидания</th>\n",
              "      <th>Кол-во рейсов вылет по рассписанию</th>\n",
              "      <th>Среднее время ожидания между прилет и вылет</th>\n",
              "      <th>Среднее время ожидания в часах между прилет и вылет</th>\n",
              "      <th>Суммарное время ожидания в  между прилет и вылет</th>\n",
              "      <th>Суммарное время ожидания в часах между прилет и вылет</th>\n",
              "      <th>Макс время ожидания между прилет и вылет</th>\n",
              "    </tr>\n",
              "  </thead>\n",
              "  <tbody>\n",
              "    <tr>\n",
              "      <th>0</th>\n",
              "      <td>2022-05-01 00:00:00.000</td>\n",
              "      <td>2022-05-01</td>\n",
              "      <td>Торговая точка 0601</td>\n",
              "      <td>7683</td>\n",
              "      <td>Общепит</td>\n",
              "      <td>B</td>\n",
              "      <td>Чистая зона ВВЛ-вылет</td>\n",
              "      <td>755448.0</td>\n",
              "      <td>Вс</td>\n",
              "      <td>2022-05-01</td>\n",
              "      <td>2</td>\n",
              "      <td>749.7</td>\n",
              "      <td>767.3</td>\n",
              "      <td>65</td>\n",
              "      <td>Ветер, дующий с северо-запада</td>\n",
              "      <td>1</td>\n",
              "      <td>нет</td>\n",
              "      <td>нет</td>\n",
              "      <td>Нет существенной облачности</td>\n",
              "      <td>10.0 и более</td>\n",
              "      <td>-4</td>\n",
              "      <td>583.0</td>\n",
              "      <td>0.1</td>\n",
              "      <td>01:52:26.760000</td>\n",
              "      <td>1900-02-14 12:36:01</td>\n",
              "      <td>45.5</td>\n",
              "      <td>0.3</td>\n",
              "      <td>NaN</td>\n",
              "      <td>NaN</td>\n",
              "      <td>NaN</td>\n",
              "      <td>NaN</td>\n",
              "      <td>NaN</td>\n",
              "      <td>NaN</td>\n",
              "    </tr>\n",
              "    <tr>\n",
              "      <th>1</th>\n",
              "      <td>2022-05-01 00:00:00.000</td>\n",
              "      <td>2022-05-01</td>\n",
              "      <td>Торговая точка 8313</td>\n",
              "      <td>2251</td>\n",
              "      <td>Общепит</td>\n",
              "      <td>B</td>\n",
              "      <td>Чистая зона ВВЛ-вылет</td>\n",
              "      <td>44560.0</td>\n",
              "      <td>Вс</td>\n",
              "      <td>2022-05-01</td>\n",
              "      <td>2</td>\n",
              "      <td>749.7</td>\n",
              "      <td>767.3</td>\n",
              "      <td>65</td>\n",
              "      <td>Ветер, дующий с северо-запада</td>\n",
              "      <td>1</td>\n",
              "      <td>нет</td>\n",
              "      <td>нет</td>\n",
              "      <td>Нет существенной облачности</td>\n",
              "      <td>10.0 и более</td>\n",
              "      <td>-4</td>\n",
              "      <td>583.0</td>\n",
              "      <td>0.1</td>\n",
              "      <td>01:52:26.760000</td>\n",
              "      <td>1900-02-14 12:36:01</td>\n",
              "      <td>45.5</td>\n",
              "      <td>0.3</td>\n",
              "      <td>NaN</td>\n",
              "      <td>NaN</td>\n",
              "      <td>NaN</td>\n",
              "      <td>NaN</td>\n",
              "      <td>NaN</td>\n",
              "      <td>NaN</td>\n",
              "    </tr>\n",
              "    <tr>\n",
              "      <th>2</th>\n",
              "      <td>2022-05-01 00:00:00.000</td>\n",
              "      <td>2022-05-01</td>\n",
              "      <td>Торговая точка 8313</td>\n",
              "      <td>538</td>\n",
              "      <td>Общепит</td>\n",
              "      <td>B</td>\n",
              "      <td>Чистая зона ВВЛ-вылет</td>\n",
              "      <td>242160.0</td>\n",
              "      <td>Вс</td>\n",
              "      <td>2022-05-01</td>\n",
              "      <td>2</td>\n",
              "      <td>749.7</td>\n",
              "      <td>767.3</td>\n",
              "      <td>65</td>\n",
              "      <td>Ветер, дующий с северо-запада</td>\n",
              "      <td>1</td>\n",
              "      <td>нет</td>\n",
              "      <td>нет</td>\n",
              "      <td>Нет существенной облачности</td>\n",
              "      <td>10.0 и более</td>\n",
              "      <td>-4</td>\n",
              "      <td>583.0</td>\n",
              "      <td>0.1</td>\n",
              "      <td>01:52:26.760000</td>\n",
              "      <td>1900-02-14 12:36:01</td>\n",
              "      <td>45.5</td>\n",
              "      <td>0.3</td>\n",
              "      <td>NaN</td>\n",
              "      <td>NaN</td>\n",
              "      <td>NaN</td>\n",
              "      <td>NaN</td>\n",
              "      <td>NaN</td>\n",
              "      <td>NaN</td>\n",
              "    </tr>\n",
              "  </tbody>\n",
              "</table>\n",
              "</div>\n",
              "      <button class=\"colab-df-convert\" onclick=\"convertToInteractive('df-1c278d3f-9a17-4b9a-addd-5670cdd7b91c')\"\n",
              "              title=\"Convert this dataframe to an interactive table.\"\n",
              "              style=\"display:none;\">\n",
              "        \n",
              "  <svg xmlns=\"http://www.w3.org/2000/svg\" height=\"24px\"viewBox=\"0 0 24 24\"\n",
              "       width=\"24px\">\n",
              "    <path d=\"M0 0h24v24H0V0z\" fill=\"none\"/>\n",
              "    <path d=\"M18.56 5.44l.94 2.06.94-2.06 2.06-.94-2.06-.94-.94-2.06-.94 2.06-2.06.94zm-11 1L8.5 8.5l.94-2.06 2.06-.94-2.06-.94L8.5 2.5l-.94 2.06-2.06.94zm10 10l.94 2.06.94-2.06 2.06-.94-2.06-.94-.94-2.06-.94 2.06-2.06.94z\"/><path d=\"M17.41 7.96l-1.37-1.37c-.4-.4-.92-.59-1.43-.59-.52 0-1.04.2-1.43.59L10.3 9.45l-7.72 7.72c-.78.78-.78 2.05 0 2.83L4 21.41c.39.39.9.59 1.41.59.51 0 1.02-.2 1.41-.59l7.78-7.78 2.81-2.81c.8-.78.8-2.07 0-2.86zM5.41 20L4 18.59l7.72-7.72 1.47 1.35L5.41 20z\"/>\n",
              "  </svg>\n",
              "      </button>\n",
              "      \n",
              "  <style>\n",
              "    .colab-df-container {\n",
              "      display:flex;\n",
              "      flex-wrap:wrap;\n",
              "      gap: 12px;\n",
              "    }\n",
              "\n",
              "    .colab-df-convert {\n",
              "      background-color: #E8F0FE;\n",
              "      border: none;\n",
              "      border-radius: 50%;\n",
              "      cursor: pointer;\n",
              "      display: none;\n",
              "      fill: #1967D2;\n",
              "      height: 32px;\n",
              "      padding: 0 0 0 0;\n",
              "      width: 32px;\n",
              "    }\n",
              "\n",
              "    .colab-df-convert:hover {\n",
              "      background-color: #E2EBFA;\n",
              "      box-shadow: 0px 1px 2px rgba(60, 64, 67, 0.3), 0px 1px 3px 1px rgba(60, 64, 67, 0.15);\n",
              "      fill: #174EA6;\n",
              "    }\n",
              "\n",
              "    [theme=dark] .colab-df-convert {\n",
              "      background-color: #3B4455;\n",
              "      fill: #D2E3FC;\n",
              "    }\n",
              "\n",
              "    [theme=dark] .colab-df-convert:hover {\n",
              "      background-color: #434B5C;\n",
              "      box-shadow: 0px 1px 3px 1px rgba(0, 0, 0, 0.15);\n",
              "      filter: drop-shadow(0px 1px 2px rgba(0, 0, 0, 0.3));\n",
              "      fill: #FFFFFF;\n",
              "    }\n",
              "  </style>\n",
              "\n",
              "      <script>\n",
              "        const buttonEl =\n",
              "          document.querySelector('#df-1c278d3f-9a17-4b9a-addd-5670cdd7b91c button.colab-df-convert');\n",
              "        buttonEl.style.display =\n",
              "          google.colab.kernel.accessAllowed ? 'block' : 'none';\n",
              "\n",
              "        async function convertToInteractive(key) {\n",
              "          const element = document.querySelector('#df-1c278d3f-9a17-4b9a-addd-5670cdd7b91c');\n",
              "          const dataTable =\n",
              "            await google.colab.kernel.invokeFunction('convertToInteractive',\n",
              "                                                     [key], {});\n",
              "          if (!dataTable) return;\n",
              "\n",
              "          const docLinkHtml = 'Like what you see? Visit the ' +\n",
              "            '<a target=\"_blank\" href=https://colab.research.google.com/notebooks/data_table.ipynb>data table notebook</a>'\n",
              "            + ' to learn more about interactive tables.';\n",
              "          element.innerHTML = '';\n",
              "          dataTable['output_type'] = 'display_data';\n",
              "          await google.colab.output.renderOutput(dataTable, element);\n",
              "          const docLink = document.createElement('div');\n",
              "          docLink.innerHTML = docLinkHtml;\n",
              "          element.appendChild(docLink);\n",
              "        }\n",
              "      </script>\n",
              "    </div>\n",
              "  </div>\n",
              "  "
            ]
          },
          "metadata": {},
          "execution_count": 21
        }
      ]
    },
    {
      "cell_type": "code",
      "source": [
        "print(f\"Данные лежат в следующем промежутке времени: от {df_Union['TimeThirty2'].min()} до {df_Union['TimeThirty2'].max()}\")"
      ],
      "metadata": {
        "colab": {
          "base_uri": "https://localhost:8080/"
        },
        "id": "MpEapGg6krlM",
        "outputId": "aee214bc-86a3-40d3-b4a3-79ed22a57cbc"
      },
      "execution_count": null,
      "outputs": [
        {
          "output_type": "stream",
          "name": "stdout",
          "text": [
            "Данные лежат в следующем промежутке времени: от 2022-05-01 00:00:00 до 2022-06-30 23:30:00\n"
          ]
        }
      ]
    },
    {
      "cell_type": "code",
      "source": [
        "(df_Union[\"TotalSumm\"]/60).describe(percentiles=np.linspace(0.1, 0.999, 10))"
      ],
      "metadata": {
        "colab": {
          "base_uri": "https://localhost:8080/"
        },
        "id": "1AgDV4Pvkrpm",
        "outputId": "353572ab-0204-4daa-c9fa-2e9ca8db058f"
      },
      "execution_count": null,
      "outputs": [
        {
          "output_type": "execute_result",
          "data": {
            "text/plain": [
              "count     24049.0\n",
              "mean      12892.1\n",
              "std       18930.2\n",
              "min           6.7\n",
              "10%         861.3\n",
              "19.99%     1660.0\n",
              "29.98%     2732.1\n",
              "39.97%     4137.6\n",
              "49.96%     5995.1\n",
              "50%        6000.0\n",
              "59.94%     8445.3\n",
              "69.93%    12078.1\n",
              "79.92%    19559.6\n",
              "89.91%    32812.1\n",
              "99.9%    154822.2\n",
              "max      212613.3\n",
              "Name: TotalSumm, dtype: float64"
            ]
          },
          "metadata": {},
          "execution_count": 23
        }
      ]
    },
    {
      "cell_type": "code",
      "source": [
        "TotalSumm = df_Union[\"TotalSumm\"]\n",
        "TotalSumm.plot.hist(bins=100);"
      ],
      "metadata": {
        "colab": {
          "base_uri": "https://localhost:8080/",
          "height": 299
        },
        "id": "JV7y4AWMkrs4",
        "outputId": "8da6cd2f-dab0-4450-b08a-d585967cbfc8"
      },
      "execution_count": null,
      "outputs": [
        {
          "output_type": "display_data",
          "data": {
            "text/plain": [
              "<Figure size 432x288 with 1 Axes>"
            ],
            "image/png": "[encoded data removed]"
          },
          "metadata": {}
        }
      ]
    },
    {
      "cell_type": "code",
      "execution_count": null,
      "metadata": {
        "id": "618bc5a6-9c4a-4dba-a2ab-03c0a516cb65",
        "outputId": "fc944188-ec01-419f-c8de-094fd3ee54d1",
        "colab": {
          "base_uri": "https://localhost:8080/"
        }
      },
      "outputs": [
        {
          "output_type": "execute_result",
          "data": {
            "text/plain": [
              "6812153.599999995"
            ]
          },
          "metadata": {},
          "execution_count": 25
        }
      ],
      "source": [
        "th = np.percentile(df_Union[\"TotalSumm\"], 99.5)\n",
        "th"
      ]
    },
    {
      "cell_type": "code",
      "execution_count": null,
      "metadata": {
        "id": "aeca2fb8-fc28-4ba3-853e-9d117096912c",
        "outputId": "74e978eb-a512-4b8c-f869-a4509e2c1bf9",
        "colab": {
          "base_uri": "https://localhost:8080/",
          "height": 299
        }
      },
      "outputs": [
        {
          "output_type": "display_data",
          "data": {
            "text/plain": [
              "<Figure size 432x288 with 1 Axes>"
            ],
            "image/png": "[encoded data removed]"
          },
          "metadata": {}
        }
      ],
      "source": [
        "TotalSumm = df_Union.loc[df_Union[\"TotalSumm\"]<th, \"TotalSumm\"]\n",
        "TotalSumm.plot.hist(bins=100);"
      ]
    },
    {
      "cell_type": "code",
      "source": [
        "df = df_Union.copy()"
      ],
      "metadata": {
        "id": "Df_873_ZmPOG"
      },
      "execution_count": null,
      "outputs": []
    },
    {
      "cell_type": "code",
      "source": [
        "df[\"day_of_week\"] = df[\"TimeThirty2\"].dt.day_of_week\n",
        "df[\"hour\"] = df[\"TimeThirty2\"].dt.hour\n",
        "df[\"month\"] = df[\"TimeThirty2\"].dt.month\n",
        "df[\"day_of_year\"] = df[\"TimeThirty2\"].dt.date"
      ],
      "metadata": {
        "id": "-cBQmtONkrwQ"
      },
      "execution_count": null,
      "outputs": []
    },
    {
      "cell_type": "markdown",
      "source": [
        "Зависимость продаж от часа"
      ],
      "metadata": {
        "id": "xmndN8rPme1s"
      }
    },
    {
      "cell_type": "code",
      "source": [
        "sns.countplot(data=df, x=\"hour\");"
      ],
      "metadata": {
        "colab": {
          "base_uri": "https://localhost:8080/",
          "height": 304
        },
        "id": "GE2_bBXYJbff",
        "outputId": "c738d5c5-0561-4f42-ace0-6f6b7124703d"
      },
      "execution_count": null,
      "outputs": [
        {
          "output_type": "display_data",
          "data": {
            "text/plain": [
              "<Figure size 432x288 with 1 Axes>"
            ],
            "image/png": "[encoded data removed]"
          },
          "metadata": {}
        }
      ]
    },
    {
      "cell_type": "code",
      "source": [
        "plt.figure(figsize=(15,30))\n",
        "sns.countplot(data=df.sort_values(by='day_of_year'), y='day_of_year'); "
      ],
      "metadata": {
        "colab": {
          "base_uri": "https://localhost:8080/",
          "height": 1000
        },
        "id": "lv2JV-PCm5KP",
        "outputId": "18564483-6a68-4f7b-9bd2-4e10ba04ebae"
      },
      "execution_count": null,
      "outputs": [
        {
          "output_type": "display_data",
          "data": {
            "text/plain": [
              "<Figure size 1080x2160 with 1 Axes>"
            ],
            "image/png": "[encoded data removed]"
          },
          "metadata": {}
        }
      ]
    },
    {
      "cell_type": "code",
      "source": [
        "sns.countplot(data=df, x=\"day_of_year\");"
      ],
      "metadata": {
        "colab": {
          "base_uri": "https://localhost:8080/",
          "height": 304
        },
        "id": "FchlNZuAmxOi",
        "outputId": "53ca6645-a2fb-46d4-aa06-77af9d77b066"
      },
      "execution_count": null,
      "outputs": [
        {
          "output_type": "display_data",
          "data": {
            "text/plain": [
              "<Figure size 432x288 with 1 Axes>"
            ],
            "image/png": "[encoded data removed]"
          },
          "metadata": {}
        }
      ]
    },
    {
      "cell_type": "code",
      "source": [
        "sns.countplot(data=df, x=\"day_of_week\");"
      ],
      "metadata": {
        "colab": {
          "base_uri": "https://localhost:8080/",
          "height": 304
        },
        "id": "jnRpmnH3mppl",
        "outputId": "4ceef9c7-ee1b-470a-cd13-1c8f84ae07a7"
      },
      "execution_count": null,
      "outputs": [
        {
          "output_type": "display_data",
          "data": {
            "text/plain": [
              "<Figure size 432x288 with 1 Axes>"
            ],
            "image/png": "[encoded data removed]"
          },
          "metadata": {}
        }
      ]
    },
    {
      "cell_type": "code",
      "source": [
        "sns.countplot(data=df, x=\"month\");"
      ],
      "metadata": {
        "colab": {
          "base_uri": "https://localhost:8080/",
          "height": 304
        },
        "id": "juemQpkUmlwE",
        "outputId": "1b643dac-3e36-42b3-e5e4-195fb8b9497f"
      },
      "execution_count": null,
      "outputs": [
        {
          "output_type": "display_data",
          "data": {
            "text/plain": [
              "<Figure size 432x288 with 1 Axes>"
            ],
            "image/png": "[encoded data removed]"
          },
          "metadata": {}
        }
      ]
    },
    {
      "cell_type": "markdown",
      "metadata": {
        "id": "83bfe18b-23da-4f64-8cfa-93184a4b0fbc"
      },
      "source": [
        "# Models catboost"
      ]
    },
    {
      "cell_type": "code",
      "source": [
        "df_Union.isnull().sum()"
      ],
      "metadata": {
        "colab": {
          "base_uri": "https://localhost:8080/"
        },
        "id": "k7zy1zCN4jGG",
        "outputId": "dd6a82fe-c986-470d-8228-66db59ad5d1d"
      },
      "execution_count": null,
      "outputs": [
        {
          "output_type": "execute_result",
          "data": {
            "text/plain": [
              "TimeThirty                                                   0\n",
              "DAT                                                          0\n",
              "Торговая точка                                               0\n",
              "Касса                                                        0\n",
              "orgtype                                                      0\n",
              "terminal                                                     0\n",
              "tzone                                                        0\n",
              "TotalSumm                                                    0\n",
              "День недели                                                  0\n",
              "TimeThirty2                                                  0\n",
              "T                                                            0\n",
              "P0                                                           0\n",
              "P                                                            0\n",
              "U                                                            0\n",
              "DD                                                           0\n",
              "Ff                                                           0\n",
              "WW                                                           0\n",
              "W'W'                                                         0\n",
              "c                                                            0\n",
              "VV                                                           0\n",
              "Td                                                           0\n",
              "Кол-во рейсов вылет                                      18196\n",
              "Среднее время ожидания                                   18196\n",
              "Среднее время ожидания в часах                           18196\n",
              "Суммарное время ожидания в часах                         18196\n",
              "Суммарное время ожидания                                 18196\n",
              "Макс время ожидания                                      18196\n",
              "Кол-во рейсов вылет по рассписанию                         877\n",
              "Среднее время ожидания между прилет и вылет                877\n",
              "Среднее время ожидания в часах между прилет и вылет        877\n",
              "Суммарное время ожидания в  между прилет и вылет           877\n",
              "Суммарное время ожидания в часах между прилет и вылет      877\n",
              "Макс время ожидания между прилет и вылет                   877\n",
              "dtype: int64"
            ]
          },
          "metadata": {},
          "execution_count": 34
        }
      ]
    },
    {
      "cell_type": "markdown",
      "source": [
        "## удаление и пустоты"
      ],
      "metadata": {
        "id": "o8y3NpNxvpjQ"
      }
    },
    {
      "cell_type": "code",
      "source": [
        "df = df.fillna(0)"
      ],
      "metadata": {
        "id": "iJJ4k0MpvYjh"
      },
      "execution_count": null,
      "outputs": []
    },
    {
      "cell_type": "code",
      "source": [
        "# df.fillna(df.mean())"
      ],
      "metadata": {
        "id": "43Nu6ZlNvFKg"
      },
      "execution_count": null,
      "outputs": []
    },
    {
      "cell_type": "code",
      "source": [
        "df = df.drop(['TimeThirty', 'DAT'], axis = 1)"
      ],
      "metadata": {
        "id": "7iegHGaSvohg"
      },
      "execution_count": null,
      "outputs": []
    },
    {
      "cell_type": "code",
      "source": [
        "df = df.drop(['Суммарное время ожидания в часах', 'Суммарное время ожидания в часах между прилет и вылет'], axis = 1)"
      ],
      "metadata": {
        "id": "Aen7Y_lWvohg"
      },
      "execution_count": null,
      "outputs": []
    },
    {
      "cell_type": "code",
      "source": [
        "df = df.drop(['Среднее время ожидания в часах между прилет и вылет'], axis = 1)"
      ],
      "metadata": {
        "id": "ekYKTcfCvohg"
      },
      "execution_count": null,
      "outputs": []
    },
    {
      "cell_type": "code",
      "source": [
        "df = df.drop(['Среднее время ожидания в часах'], axis = 1)"
      ],
      "metadata": {
        "id": "zqLo6Ativohh"
      },
      "execution_count": null,
      "outputs": []
    },
    {
      "cell_type": "code",
      "source": [
        "df = df.drop(['День недели'], axis = 1)"
      ],
      "metadata": {
        "id": "_O9Fes6Eyxfw"
      },
      "execution_count": null,
      "outputs": []
    },
    {
      "cell_type": "code",
      "source": [
        "df = df.drop(['day_of_year'], axis = 1)"
      ],
      "metadata": {
        "id": "xRSBgQOPzO0R"
      },
      "execution_count": null,
      "outputs": []
    },
    {
      "cell_type": "code",
      "source": [
        "df = df.drop(['month'], axis = 1)"
      ],
      "metadata": {
        "id": "r88thqlE0Ctq"
      },
      "execution_count": null,
      "outputs": []
    },
    {
      "cell_type": "code",
      "source": [
        "df.columns"
      ],
      "metadata": {
        "colab": {
          "base_uri": "https://localhost:8080/"
        },
        "id": "QlQyZ12Qy2H6",
        "outputId": "f6df21ef-3ff8-4f2b-9cc3-c5a3bad52f81"
      },
      "execution_count": null,
      "outputs": [
        {
          "output_type": "execute_result",
          "data": {
            "text/plain": [
              "Index(['Торговая точка', 'Касса', 'orgtype', 'terminal', 'tzone', 'TotalSumm',\n",
              "       'TimeThirty2', 'T', 'P0', 'P', 'U', 'DD', 'Ff', 'WW', 'W'W'', 'c', 'VV',\n",
              "       'Td', 'Кол-во рейсов вылет', 'Среднее время ожидания',\n",
              "       'Суммарное время ожидания', 'Макс время ожидания',\n",
              "       'Кол-во рейсов вылет по рассписанию',\n",
              "       'Среднее время ожидания между прилет и вылет',\n",
              "       'Суммарное время ожидания в  между прилет и вылет',\n",
              "       'Макс время ожидания между прилет и вылет', 'day_of_week', 'hour'],\n",
              "      dtype='object')"
            ]
          },
          "metadata": {},
          "execution_count": 45
        }
      ]
    },
    {
      "cell_type": "code",
      "source": [
        "df.head(3)"
      ],
      "metadata": {
        "colab": {
          "base_uri": "https://localhost:8080/",
          "height": 503
        },
        "id": "6AA93y19ulsO",
        "outputId": "53326f47-82f9-4d52-d27c-3b443b54361a"
      },
      "execution_count": null,
      "outputs": [
        {
          "output_type": "execute_result",
          "data": {
            "text/plain": [
              "        Торговая точка  Касса  orgtype terminal                  tzone  \\\n",
              "0  Торговая точка 0601   7683  Общепит        B  Чистая зона ВВЛ-вылет   \n",
              "1  Торговая точка 8313   2251  Общепит        B  Чистая зона ВВЛ-вылет   \n",
              "2  Торговая точка 8313    538  Общепит        B  Чистая зона ВВЛ-вылет   \n",
              "\n",
              "   TotalSumm TimeThirty2  T    P0     P   U                             DD  \\\n",
              "0   755448.0  2022-05-01  2 749.7 767.3  65  Ветер, дующий с северо-запада   \n",
              "1    44560.0  2022-05-01  2 749.7 767.3  65  Ветер, дующий с северо-запада   \n",
              "2   242160.0  2022-05-01  2 749.7 767.3  65  Ветер, дующий с северо-запада   \n",
              "\n",
              "   Ff   WW W'W'                            c            VV  Td  \\\n",
              "0   1  нет  нет  Нет существенной облачности  10.0 и более  -4   \n",
              "1   1  нет  нет  Нет существенной облачности  10.0 и более  -4   \n",
              "2   1  нет  нет  Нет существенной облачности  10.0 и более  -4   \n",
              "\n",
              "   Кол-во рейсов вылет  Среднее время ожидания  Суммарное время ожидания  \\\n",
              "0                583.0                     0.1                      45.5   \n",
              "1                583.0                     0.1                      45.5   \n",
              "2                583.0                     0.1                      45.5   \n",
              "\n",
              "   Макс время ожидания  Кол-во рейсов вылет по рассписанию  \\\n",
              "0                  0.3                                 0.0   \n",
              "1                  0.3                                 0.0   \n",
              "2                  0.3                                 0.0   \n",
              "\n",
              "   Среднее время ожидания между прилет и вылет  \\\n",
              "0                                          0.0   \n",
              "1                                          0.0   \n",
              "2                                          0.0   \n",
              "\n",
              "   Суммарное время ожидания в  между прилет и вылет  \\\n",
              "0                                               0.0   \n",
              "1                                               0.0   \n",
              "2                                               0.0   \n",
              "\n",
              "   Макс время ожидания между прилет и вылет  day_of_week  hour  \n",
              "0                                       0.0            6     0  \n",
              "1                                       0.0            6     0  \n",
              "2                                       0.0            6     0  "
            ],
            "text/html": [
              "\n",
              "  <div id=\"df-e2ce1339-165b-4f49-93b6-c54f66d25771\">\n",
              "    <div class=\"colab-df-container\">\n",
              "      <div>\n",
              "<style scoped>\n",
              "    .dataframe tbody tr th:only-of-type {\n",
              "        vertical-align: middle;\n",
              "    }\n",
              "\n",
              "    .dataframe tbody tr th {\n",
              "        vertical-align: top;\n",
              "    }\n",
              "\n",
              "    .dataframe thead th {\n",
              "        text-align: right;\n",
              "    }\n",
              "</style>\n",
              "<table border=\"1\" class=\"dataframe\">\n",
              "  <thead>\n",
              "    <tr style=\"text-align: right;\">\n",
              "      <th></th>\n",
              "      <th>Торговая точка</th>\n",
              "      <th>Касса</th>\n",
              "      <th>orgtype</th>\n",
              "      <th>terminal</th>\n",
              "      <th>tzone</th>\n",
              "      <th>TotalSumm</th>\n",
              "      <th>TimeThirty2</th>\n",
              "      <th>T</th>\n",
              "      <th>P0</th>\n",
              "      <th>P</th>\n",
              "      <th>U</th>\n",
              "      <th>DD</th>\n",
              "      <th>Ff</th>\n",
              "      <th>WW</th>\n",
              "      <th>W'W'</th>\n",
              "      <th>c</th>\n",
              "      <th>VV</th>\n",
              "      <th>Td</th>\n",
              "      <th>Кол-во рейсов вылет</th>\n",
              "      <th>Среднее время ожидания</th>\n",
              "      <th>Суммарное время ожидания</th>\n",
              "      <th>Макс время ожидания</th>\n",
              "      <th>Кол-во рейсов вылет по рассписанию</th>\n",
              "      <th>Среднее время ожидания между прилет и вылет</th>\n",
              "      <th>Суммарное время ожидания в  между прилет и вылет</th>\n",
              "      <th>Макс время ожидания между прилет и вылет</th>\n",
              "      <th>day_of_week</th>\n",
              "      <th>hour</th>\n",
              "    </tr>\n",
              "  </thead>\n",
              "  <tbody>\n",
              "    <tr>\n",
              "      <th>0</th>\n",
              "      <td>Торговая точка 0601</td>\n",
              "      <td>7683</td>\n",
              "      <td>Общепит</td>\n",
              "      <td>B</td>\n",
              "      <td>Чистая зона ВВЛ-вылет</td>\n",
              "      <td>755448.0</td>\n",
              "      <td>2022-05-01</td>\n",
              "      <td>2</td>\n",
              "      <td>749.7</td>\n",
              "      <td>767.3</td>\n",
              "      <td>65</td>\n",
              "      <td>Ветер, дующий с северо-запада</td>\n",
              "      <td>1</td>\n",
              "      <td>нет</td>\n",
              "      <td>нет</td>\n",
              "      <td>Нет существенной облачности</td>\n",
              "      <td>10.0 и более</td>\n",
              "      <td>-4</td>\n",
              "      <td>583.0</td>\n",
              "      <td>0.1</td>\n",
              "      <td>45.5</td>\n",
              "      <td>0.3</td>\n",
              "      <td>0.0</td>\n",
              "      <td>0.0</td>\n",
              "      <td>0.0</td>\n",
              "      <td>0.0</td>\n",
              "      <td>6</td>\n",
              "      <td>0</td>\n",
              "    </tr>\n",
              "    <tr>\n",
              "      <th>1</th>\n",
              "      <td>Торговая точка 8313</td>\n",
              "      <td>2251</td>\n",
              "      <td>Общепит</td>\n",
              "      <td>B</td>\n",
              "      <td>Чистая зона ВВЛ-вылет</td>\n",
              "      <td>44560.0</td>\n",
              "      <td>2022-05-01</td>\n",
              "      <td>2</td>\n",
              "      <td>749.7</td>\n",
              "      <td>767.3</td>\n",
              "      <td>65</td>\n",
              "      <td>Ветер, дующий с северо-запада</td>\n",
              "      <td>1</td>\n",
              "      <td>нет</td>\n",
              "      <td>нет</td>\n",
              "      <td>Нет существенной облачности</td>\n",
              "      <td>10.0 и более</td>\n",
              "      <td>-4</td>\n",
              "      <td>583.0</td>\n",
              "      <td>0.1</td>\n",
              "      <td>45.5</td>\n",
              "      <td>0.3</td>\n",
              "      <td>0.0</td>\n",
              "      <td>0.0</td>\n",
              "      <td>0.0</td>\n",
              "      <td>0.0</td>\n",
              "      <td>6</td>\n",
              "      <td>0</td>\n",
              "    </tr>\n",
              "    <tr>\n",
              "      <th>2</th>\n",
              "      <td>Торговая точка 8313</td>\n",
              "      <td>538</td>\n",
              "      <td>Общепит</td>\n",
              "      <td>B</td>\n",
              "      <td>Чистая зона ВВЛ-вылет</td>\n",
              "      <td>242160.0</td>\n",
              "      <td>2022-05-01</td>\n",
              "      <td>2</td>\n",
              "      <td>749.7</td>\n",
              "      <td>767.3</td>\n",
              "      <td>65</td>\n",
              "      <td>Ветер, дующий с северо-запада</td>\n",
              "      <td>1</td>\n",
              "      <td>нет</td>\n",
              "      <td>нет</td>\n",
              "      <td>Нет существенной облачности</td>\n",
              "      <td>10.0 и более</td>\n",
              "      <td>-4</td>\n",
              "      <td>583.0</td>\n",
              "      <td>0.1</td>\n",
              "      <td>45.5</td>\n",
              "      <td>0.3</td>\n",
              "      <td>0.0</td>\n",
              "      <td>0.0</td>\n",
              "      <td>0.0</td>\n",
              "      <td>0.0</td>\n",
              "      <td>6</td>\n",
              "      <td>0</td>\n",
              "    </tr>\n",
              "  </tbody>\n",
              "</table>\n",
              "</div>\n",
              "      <button class=\"colab-df-convert\" onclick=\"convertToInteractive('df-e2ce1339-165b-4f49-93b6-c54f66d25771')\"\n",
              "              title=\"Convert this dataframe to an interactive table.\"\n",
              "              style=\"display:none;\">\n",
              "        \n",
              "  <svg xmlns=\"http://www.w3.org/2000/svg\" height=\"24px\"viewBox=\"0 0 24 24\"\n",
              "       width=\"24px\">\n",
              "    <path d=\"M0 0h24v24H0V0z\" fill=\"none\"/>\n",
              "    <path d=\"M18.56 5.44l.94 2.06.94-2.06 2.06-.94-2.06-.94-.94-2.06-.94 2.06-2.06.94zm-11 1L8.5 8.5l.94-2.06 2.06-.94-2.06-.94L8.5 2.5l-.94 2.06-2.06.94zm10 10l.94 2.06.94-2.06 2.06-.94-2.06-.94-.94-2.06-.94 2.06-2.06.94z\"/><path d=\"M17.41 7.96l-1.37-1.37c-.4-.4-.92-.59-1.43-.59-.52 0-1.04.2-1.43.59L10.3 9.45l-7.72 7.72c-.78.78-.78 2.05 0 2.83L4 21.41c.39.39.9.59 1.41.59.51 0 1.02-.2 1.41-.59l7.78-7.78 2.81-2.81c.8-.78.8-2.07 0-2.86zM5.41 20L4 18.59l7.72-7.72 1.47 1.35L5.41 20z\"/>\n",
              "  </svg>\n",
              "      </button>\n",
              "      \n",
              "  <style>\n",
              "    .colab-df-container {\n",
              "      display:flex;\n",
              "      flex-wrap:wrap;\n",
              "      gap: 12px;\n",
              "    }\n",
              "\n",
              "    .colab-df-convert {\n",
              "      background-color: #E8F0FE;\n",
              "      border: none;\n",
              "      border-radius: 50%;\n",
              "      cursor: pointer;\n",
              "      display: none;\n",
              "      fill: #1967D2;\n",
              "      height: 32px;\n",
              "      padding: 0 0 0 0;\n",
              "      width: 32px;\n",
              "    }\n",
              "\n",
              "    .colab-df-convert:hover {\n",
              "      background-color: #E2EBFA;\n",
              "      box-shadow: 0px 1px 2px rgba(60, 64, 67, 0.3), 0px 1px 3px 1px rgba(60, 64, 67, 0.15);\n",
              "      fill: #174EA6;\n",
              "    }\n",
              "\n",
              "    [theme=dark] .colab-df-convert {\n",
              "      background-color: #3B4455;\n",
              "      fill: #D2E3FC;\n",
              "    }\n",
              "\n",
              "    [theme=dark] .colab-df-convert:hover {\n",
              "      background-color: #434B5C;\n",
              "      box-shadow: 0px 1px 3px 1px rgba(0, 0, 0, 0.15);\n",
              "      filter: drop-shadow(0px 1px 2px rgba(0, 0, 0, 0.3));\n",
              "      fill: #FFFFFF;\n",
              "    }\n",
              "  </style>\n",
              "\n",
              "      <script>\n",
              "        const buttonEl =\n",
              "          document.querySelector('#df-e2ce1339-165b-4f49-93b6-c54f66d25771 button.colab-df-convert');\n",
              "        buttonEl.style.display =\n",
              "          google.colab.kernel.accessAllowed ? 'block' : 'none';\n",
              "\n",
              "        async function convertToInteractive(key) {\n",
              "          const element = document.querySelector('#df-e2ce1339-165b-4f49-93b6-c54f66d25771');\n",
              "          const dataTable =\n",
              "            await google.colab.kernel.invokeFunction('convertToInteractive',\n",
              "                                                     [key], {});\n",
              "          if (!dataTable) return;\n",
              "\n",
              "          const docLinkHtml = 'Like what you see? Visit the ' +\n",
              "            '<a target=\"_blank\" href=https://colab.research.google.com/notebooks/data_table.ipynb>data table notebook</a>'\n",
              "            + ' to learn more about interactive tables.';\n",
              "          element.innerHTML = '';\n",
              "          dataTable['output_type'] = 'display_data';\n",
              "          await google.colab.output.renderOutput(dataTable, element);\n",
              "          const docLink = document.createElement('div');\n",
              "          docLink.innerHTML = docLinkHtml;\n",
              "          element.appendChild(docLink);\n",
              "        }\n",
              "      </script>\n",
              "    </div>\n",
              "  </div>\n",
              "  "
            ]
          },
          "metadata": {},
          "execution_count": 46
        }
      ]
    },
    {
      "cell_type": "code",
      "source": [
        "df['hour'] = df['hour'].astype(str)"
      ],
      "metadata": {
        "id": "B8PO44hL3U7v"
      },
      "execution_count": null,
      "outputs": []
    },
    {
      "cell_type": "code",
      "source": [
        "df['day_of_week'] = df['day_of_week'].astype(str)"
      ],
      "metadata": {
        "id": "ZZZWlJ513grC"
      },
      "execution_count": null,
      "outputs": []
    },
    {
      "cell_type": "code",
      "source": [
        "df['Касса'] = df['Касса'].astype(str)"
      ],
      "metadata": {
        "id": "oYhxopb63gx-"
      },
      "execution_count": null,
      "outputs": []
    },
    {
      "cell_type": "code",
      "source": [
        "cat_features = ['Торговая точка', 'Касса', 'orgtype', 'terminal', 'tzone', 'DD', 'WW', \"W'W'\", 'c', 'VV', 'day_of_week', 'hour']"
      ],
      "metadata": {
        "id": "HEfsgC6BzacF"
      },
      "execution_count": null,
      "outputs": []
    },
    {
      "cell_type": "code",
      "source": [
        "df.info()"
      ],
      "metadata": {
        "colab": {
          "base_uri": "https://localhost:8080/"
        },
        "id": "lihrLMMdv_Ij",
        "outputId": "c6bb576e-946f-4e8a-d02c-3c2390b0ff11"
      },
      "execution_count": null,
      "outputs": [
        {
          "output_type": "stream",
          "name": "stdout",
          "text": [
            "<class 'pandas.core.frame.DataFrame'>\n",
            "RangeIndex: 24049 entries, 0 to 24048\n",
            "Data columns (total 28 columns):\n",
            " #   Column                                            Non-Null Count  Dtype         \n",
            "---  ------                                            --------------  -----         \n",
            " 0   Торговая точка                                    24049 non-null  object        \n",
            " 1   Касса                                             24049 non-null  object        \n",
            " 2   orgtype                                           24049 non-null  object        \n",
            " 3   terminal                                          24049 non-null  object        \n",
            " 4   tzone                                             24049 non-null  object        \n",
            " 5   TotalSumm                                         24049 non-null  float64       \n",
            " 6   TimeThirty2                                       24049 non-null  datetime64[ns]\n",
            " 7   T                                                 24049 non-null  int64         \n",
            " 8   P0                                                24049 non-null  float64       \n",
            " 9   P                                                 24049 non-null  float64       \n",
            " 10  U                                                 24049 non-null  int64         \n",
            " 11  DD                                                24049 non-null  object        \n",
            " 12  Ff                                                24049 non-null  int64         \n",
            " 13  WW                                                24049 non-null  object        \n",
            " 14  W'W'                                              24049 non-null  object        \n",
            " 15  c                                                 24049 non-null  object        \n",
            " 16  VV                                                24049 non-null  object        \n",
            " 17  Td                                                24049 non-null  int64         \n",
            " 18  Кол-во рейсов вылет                               24049 non-null  float64       \n",
            " 19  Среднее время ожидания                            24049 non-null  float64       \n",
            " 20  Суммарное время ожидания                          24049 non-null  float64       \n",
            " 21  Макс время ожидания                               24049 non-null  float64       \n",
            " 22  Кол-во рейсов вылет по рассписанию                24049 non-null  float64       \n",
            " 23  Среднее время ожидания между прилет и вылет       24049 non-null  float64       \n",
            " 24  Суммарное время ожидания в  между прилет и вылет  24049 non-null  float64       \n",
            " 25  Макс время ожидания между прилет и вылет          24049 non-null  float64       \n",
            " 26  day_of_week                                       24049 non-null  object        \n",
            " 27  hour                                              24049 non-null  object        \n",
            "dtypes: datetime64[ns](1), float64(11), int64(4), object(12)\n",
            "memory usage: 5.1+ MB\n"
          ]
        }
      ]
    },
    {
      "cell_type": "code",
      "source": [
        "df.columns"
      ],
      "metadata": {
        "colab": {
          "base_uri": "https://localhost:8080/"
        },
        "id": "zlD4f_G2sstM",
        "outputId": "9102458e-2ee3-4141-ebd0-43e25b49fedb"
      },
      "execution_count": null,
      "outputs": [
        {
          "output_type": "execute_result",
          "data": {
            "text/plain": [
              "Index(['Торговая точка', 'Касса', 'orgtype', 'terminal', 'tzone', 'TotalSumm',\n",
              "       'TimeThirty2', 'T', 'P0', 'P', 'U', 'DD', 'Ff', 'WW', 'W'W'', 'c', 'VV',\n",
              "       'Td', 'Кол-во рейсов вылет', 'Среднее время ожидания',\n",
              "       'Суммарное время ожидания', 'Макс время ожидания',\n",
              "       'Кол-во рейсов вылет по рассписанию',\n",
              "       'Среднее время ожидания между прилет и вылет',\n",
              "       'Суммарное время ожидания в  между прилет и вылет',\n",
              "       'Макс время ожидания между прилет и вылет', 'day_of_week', 'hour'],\n",
              "      dtype='object')"
            ]
          },
          "metadata": {},
          "execution_count": 52
        }
      ]
    },
    {
      "cell_type": "code",
      "source": [
        "cat_columns = df.select_dtypes(include=['object']).columns\n",
        "cat_columns"
      ],
      "metadata": {
        "colab": {
          "base_uri": "https://localhost:8080/"
        },
        "id": "HUzrienx3DEP",
        "outputId": "426a8116-b227-4744-bc02-fd0a1bb49fe3"
      },
      "execution_count": null,
      "outputs": [
        {
          "output_type": "execute_result",
          "data": {
            "text/plain": [
              "Index(['Торговая точка', 'Касса', 'orgtype', 'terminal', 'tzone', 'DD', 'WW',\n",
              "       'W'W'', 'c', 'VV', 'day_of_week', 'hour'],\n",
              "      dtype='object')"
            ]
          },
          "metadata": {},
          "execution_count": 53
        }
      ]
    },
    {
      "cell_type": "code",
      "source": [
        "df[['Торговая точка', 'Касса', 'orgtype', 'terminal', 'tzone', 'DD', 'WW', \"W'W'\", 'c', 'VV', 'day_of_week', 'hour']] = df[['Торговая точка', 'Касса', 'orgtype', 'terminal', 'tzone', 'DD', 'WW', \"W'W'\", 'c', 'VV', 'day_of_week', 'hour']].astype('category')"
      ],
      "metadata": {
        "id": "C8-4XaEA6_PZ"
      },
      "execution_count": null,
      "outputs": []
    },
    {
      "cell_type": "code",
      "source": [
        "df[ 'VV' ] = df[ 'VV' ].cat.codes"
      ],
      "metadata": {
        "id": "fT9niMKj8QK0"
      },
      "execution_count": null,
      "outputs": []
    },
    {
      "cell_type": "code",
      "source": [
        "# df[cat_columns].apply(lambda x: x.cat.codes)"
      ],
      "metadata": {
        "id": "_i0SIFwd6Cu5"
      },
      "execution_count": null,
      "outputs": []
    },
    {
      "cell_type": "code",
      "source": [
        "df.head(3)"
      ],
      "metadata": {
        "colab": {
          "base_uri": "https://localhost:8080/",
          "height": 503
        },
        "id": "r2MzVP_38adt",
        "outputId": "eacb1f48-c134-4c53-cb12-264d9e8a1ec6"
      },
      "execution_count": null,
      "outputs": [
        {
          "output_type": "execute_result",
          "data": {
            "text/plain": [
              "        Торговая точка Касса  orgtype terminal                  tzone  \\\n",
              "0  Торговая точка 0601  7683  Общепит        B  Чистая зона ВВЛ-вылет   \n",
              "1  Торговая точка 8313  2251  Общепит        B  Чистая зона ВВЛ-вылет   \n",
              "2  Торговая точка 8313   538  Общепит        B  Чистая зона ВВЛ-вылет   \n",
              "\n",
              "   TotalSumm TimeThirty2  T    P0     P   U                             DD  \\\n",
              "0   755448.0  2022-05-01  2 749.7 767.3  65  Ветер, дующий с северо-запада   \n",
              "1    44560.0  2022-05-01  2 749.7 767.3  65  Ветер, дующий с северо-запада   \n",
              "2   242160.0  2022-05-01  2 749.7 767.3  65  Ветер, дующий с северо-запада   \n",
              "\n",
              "   Ff   WW W'W'                            c  VV  Td  Кол-во рейсов вылет  \\\n",
              "0   1  нет  нет  Нет существенной облачности  18  -4                583.0   \n",
              "1   1  нет  нет  Нет существенной облачности  18  -4                583.0   \n",
              "2   1  нет  нет  Нет существенной облачности  18  -4                583.0   \n",
              "\n",
              "   Среднее время ожидания  Суммарное время ожидания  Макс время ожидания  \\\n",
              "0                     0.1                      45.5                  0.3   \n",
              "1                     0.1                      45.5                  0.3   \n",
              "2                     0.1                      45.5                  0.3   \n",
              "\n",
              "   Кол-во рейсов вылет по рассписанию  \\\n",
              "0                                 0.0   \n",
              "1                                 0.0   \n",
              "2                                 0.0   \n",
              "\n",
              "   Среднее время ожидания между прилет и вылет  \\\n",
              "0                                          0.0   \n",
              "1                                          0.0   \n",
              "2                                          0.0   \n",
              "\n",
              "   Суммарное время ожидания в  между прилет и вылет  \\\n",
              "0                                               0.0   \n",
              "1                                               0.0   \n",
              "2                                               0.0   \n",
              "\n",
              "   Макс время ожидания между прилет и вылет day_of_week hour  \n",
              "0                                       0.0           6    0  \n",
              "1                                       0.0           6    0  \n",
              "2                                       0.0           6    0  "
            ],
            "text/html": [
              "\n",
              "  <div id=\"df-04d51792-9a22-4da6-acd3-eb73de603a75\">\n",
              "    <div class=\"colab-df-container\">\n",
              "      <div>\n",
              "<style scoped>\n",
              "    .dataframe tbody tr th:only-of-type {\n",
              "        vertical-align: middle;\n",
              "    }\n",
              "\n",
              "    .dataframe tbody tr th {\n",
              "        vertical-align: top;\n",
              "    }\n",
              "\n",
              "    .dataframe thead th {\n",
              "        text-align: right;\n",
              "    }\n",
              "</style>\n",
              "<table border=\"1\" class=\"dataframe\">\n",
              "  <thead>\n",
              "    <tr style=\"text-align: right;\">\n",
              "      <th></th>\n",
              "      <th>Торговая точка</th>\n",
              "      <th>Касса</th>\n",
              "      <th>orgtype</th>\n",
              "      <th>terminal</th>\n",
              "      <th>tzone</th>\n",
              "      <th>TotalSumm</th>\n",
              "      <th>TimeThirty2</th>\n",
              "      <th>T</th>\n",
              "      <th>P0</th>\n",
              "      <th>P</th>\n",
              "      <th>U</th>\n",
              "      <th>DD</th>\n",
              "      <th>Ff</th>\n",
              "      <th>WW</th>\n",
              "      <th>W'W'</th>\n",
              "      <th>c</th>\n",
              "      <th>VV</th>\n",
              "      <th>Td</th>\n",
              "      <th>Кол-во рейсов вылет</th>\n",
              "      <th>Среднее время ожидания</th>\n",
              "      <th>Суммарное время ожидания</th>\n",
              "      <th>Макс время ожидания</th>\n",
              "      <th>Кол-во рейсов вылет по рассписанию</th>\n",
              "      <th>Среднее время ожидания между прилет и вылет</th>\n",
              "      <th>Суммарное время ожидания в  между прилет и вылет</th>\n",
              "      <th>Макс время ожидания между прилет и вылет</th>\n",
              "      <th>day_of_week</th>\n",
              "      <th>hour</th>\n",
              "    </tr>\n",
              "  </thead>\n",
              "  <tbody>\n",
              "    <tr>\n",
              "      <th>0</th>\n",
              "      <td>Торговая точка 0601</td>\n",
              "      <td>7683</td>\n",
              "      <td>Общепит</td>\n",
              "      <td>B</td>\n",
              "      <td>Чистая зона ВВЛ-вылет</td>\n",
              "      <td>755448.0</td>\n",
              "      <td>2022-05-01</td>\n",
              "      <td>2</td>\n",
              "      <td>749.7</td>\n",
              "      <td>767.3</td>\n",
              "      <td>65</td>\n",
              "      <td>Ветер, дующий с северо-запада</td>\n",
              "      <td>1</td>\n",
              "      <td>нет</td>\n",
              "      <td>нет</td>\n",
              "      <td>Нет существенной облачности</td>\n",
              "      <td>18</td>\n",
              "      <td>-4</td>\n",
              "      <td>583.0</td>\n",
              "      <td>0.1</td>\n",
              "      <td>45.5</td>\n",
              "      <td>0.3</td>\n",
              "      <td>0.0</td>\n",
              "      <td>0.0</td>\n",
              "      <td>0.0</td>\n",
              "      <td>0.0</td>\n",
              "      <td>6</td>\n",
              "      <td>0</td>\n",
              "    </tr>\n",
              "    <tr>\n",
              "      <th>1</th>\n",
              "      <td>Торговая точка 8313</td>\n",
              "      <td>2251</td>\n",
              "      <td>Общепит</td>\n",
              "      <td>B</td>\n",
              "      <td>Чистая зона ВВЛ-вылет</td>\n",
              "      <td>44560.0</td>\n",
              "      <td>2022-05-01</td>\n",
              "      <td>2</td>\n",
              "      <td>749.7</td>\n",
              "      <td>767.3</td>\n",
              "      <td>65</td>\n",
              "      <td>Ветер, дующий с северо-запада</td>\n",
              "      <td>1</td>\n",
              "      <td>нет</td>\n",
              "      <td>нет</td>\n",
              "      <td>Нет существенной облачности</td>\n",
              "      <td>18</td>\n",
              "      <td>-4</td>\n",
              "      <td>583.0</td>\n",
              "      <td>0.1</td>\n",
              "      <td>45.5</td>\n",
              "      <td>0.3</td>\n",
              "      <td>0.0</td>\n",
              "      <td>0.0</td>\n",
              "      <td>0.0</td>\n",
              "      <td>0.0</td>\n",
              "      <td>6</td>\n",
              "      <td>0</td>\n",
              "    </tr>\n",
              "    <tr>\n",
              "      <th>2</th>\n",
              "      <td>Торговая точка 8313</td>\n",
              "      <td>538</td>\n",
              "      <td>Общепит</td>\n",
              "      <td>B</td>\n",
              "      <td>Чистая зона ВВЛ-вылет</td>\n",
              "      <td>242160.0</td>\n",
              "      <td>2022-05-01</td>\n",
              "      <td>2</td>\n",
              "      <td>749.7</td>\n",
              "      <td>767.3</td>\n",
              "      <td>65</td>\n",
              "      <td>Ветер, дующий с северо-запада</td>\n",
              "      <td>1</td>\n",
              "      <td>нет</td>\n",
              "      <td>нет</td>\n",
              "      <td>Нет существенной облачности</td>\n",
              "      <td>18</td>\n",
              "      <td>-4</td>\n",
              "      <td>583.0</td>\n",
              "      <td>0.1</td>\n",
              "      <td>45.5</td>\n",
              "      <td>0.3</td>\n",
              "      <td>0.0</td>\n",
              "      <td>0.0</td>\n",
              "      <td>0.0</td>\n",
              "      <td>0.0</td>\n",
              "      <td>6</td>\n",
              "      <td>0</td>\n",
              "    </tr>\n",
              "  </tbody>\n",
              "</table>\n",
              "</div>\n",
              "      <button class=\"colab-df-convert\" onclick=\"convertToInteractive('df-04d51792-9a22-4da6-acd3-eb73de603a75')\"\n",
              "              title=\"Convert this dataframe to an interactive table.\"\n",
              "              style=\"display:none;\">\n",
              "        \n",
              "  <svg xmlns=\"http://www.w3.org/2000/svg\" height=\"24px\"viewBox=\"0 0 24 24\"\n",
              "       width=\"24px\">\n",
              "    <path d=\"M0 0h24v24H0V0z\" fill=\"none\"/>\n",
              "    <path d=\"M18.56 5.44l.94 2.06.94-2.06 2.06-.94-2.06-.94-.94-2.06-.94 2.06-2.06.94zm-11 1L8.5 8.5l.94-2.06 2.06-.94-2.06-.94L8.5 2.5l-.94 2.06-2.06.94zm10 10l.94 2.06.94-2.06 2.06-.94-2.06-.94-.94-2.06-.94 2.06-2.06.94z\"/><path d=\"M17.41 7.96l-1.37-1.37c-.4-.4-.92-.59-1.43-.59-.52 0-1.04.2-1.43.59L10.3 9.45l-7.72 7.72c-.78.78-.78 2.05 0 2.83L4 21.41c.39.39.9.59 1.41.59.51 0 1.02-.2 1.41-.59l7.78-7.78 2.81-2.81c.8-.78.8-2.07 0-2.86zM5.41 20L4 18.59l7.72-7.72 1.47 1.35L5.41 20z\"/>\n",
              "  </svg>\n",
              "      </button>\n",
              "      \n",
              "  <style>\n",
              "    .colab-df-container {\n",
              "      display:flex;\n",
              "      flex-wrap:wrap;\n",
              "      gap: 12px;\n",
              "    }\n",
              "\n",
              "    .colab-df-convert {\n",
              "      background-color: #E8F0FE;\n",
              "      border: none;\n",
              "      border-radius: 50%;\n",
              "      cursor: pointer;\n",
              "      display: none;\n",
              "      fill: #1967D2;\n",
              "      height: 32px;\n",
              "      padding: 0 0 0 0;\n",
              "      width: 32px;\n",
              "    }\n",
              "\n",
              "    .colab-df-convert:hover {\n",
              "      background-color: #E2EBFA;\n",
              "      box-shadow: 0px 1px 2px rgba(60, 64, 67, 0.3), 0px 1px 3px 1px rgba(60, 64, 67, 0.15);\n",
              "      fill: #174EA6;\n",
              "    }\n",
              "\n",
              "    [theme=dark] .colab-df-convert {\n",
              "      background-color: #3B4455;\n",
              "      fill: #D2E3FC;\n",
              "    }\n",
              "\n",
              "    [theme=dark] .colab-df-convert:hover {\n",
              "      background-color: #434B5C;\n",
              "      box-shadow: 0px 1px 3px 1px rgba(0, 0, 0, 0.15);\n",
              "      filter: drop-shadow(0px 1px 2px rgba(0, 0, 0, 0.3));\n",
              "      fill: #FFFFFF;\n",
              "    }\n",
              "  </style>\n",
              "\n",
              "      <script>\n",
              "        const buttonEl =\n",
              "          document.querySelector('#df-04d51792-9a22-4da6-acd3-eb73de603a75 button.colab-df-convert');\n",
              "        buttonEl.style.display =\n",
              "          google.colab.kernel.accessAllowed ? 'block' : 'none';\n",
              "\n",
              "        async function convertToInteractive(key) {\n",
              "          const element = document.querySelector('#df-04d51792-9a22-4da6-acd3-eb73de603a75');\n",
              "          const dataTable =\n",
              "            await google.colab.kernel.invokeFunction('convertToInteractive',\n",
              "                                                     [key], {});\n",
              "          if (!dataTable) return;\n",
              "\n",
              "          const docLinkHtml = 'Like what you see? Visit the ' +\n",
              "            '<a target=\"_blank\" href=https://colab.research.google.com/notebooks/data_table.ipynb>data table notebook</a>'\n",
              "            + ' to learn more about interactive tables.';\n",
              "          element.innerHTML = '';\n",
              "          dataTable['output_type'] = 'display_data';\n",
              "          await google.colab.output.renderOutput(dataTable, element);\n",
              "          const docLink = document.createElement('div');\n",
              "          docLink.innerHTML = docLinkHtml;\n",
              "          element.appendChild(docLink);\n",
              "        }\n",
              "      </script>\n",
              "    </div>\n",
              "  </div>\n",
              "  "
            ]
          },
          "metadata": {},
          "execution_count": 57
        }
      ]
    },
    {
      "cell_type": "code",
      "source": [
        "df.info()"
      ],
      "metadata": {
        "colab": {
          "base_uri": "https://localhost:8080/"
        },
        "id": "PvRUjVai7itl",
        "outputId": "aa1d2371-6d59-4986-c044-7755a9618090"
      },
      "execution_count": null,
      "outputs": [
        {
          "output_type": "stream",
          "name": "stdout",
          "text": [
            "<class 'pandas.core.frame.DataFrame'>\n",
            "RangeIndex: 24049 entries, 0 to 24048\n",
            "Data columns (total 28 columns):\n",
            " #   Column                                            Non-Null Count  Dtype         \n",
            "---  ------                                            --------------  -----         \n",
            " 0   Торговая точка                                    24049 non-null  category      \n",
            " 1   Касса                                             24049 non-null  category      \n",
            " 2   orgtype                                           24049 non-null  category      \n",
            " 3   terminal                                          24049 non-null  category      \n",
            " 4   tzone                                             24049 non-null  category      \n",
            " 5   TotalSumm                                         24049 non-null  float64       \n",
            " 6   TimeThirty2                                       24049 non-null  datetime64[ns]\n",
            " 7   T                                                 24049 non-null  int64         \n",
            " 8   P0                                                24049 non-null  float64       \n",
            " 9   P                                                 24049 non-null  float64       \n",
            " 10  U                                                 24049 non-null  int64         \n",
            " 11  DD                                                24049 non-null  category      \n",
            " 12  Ff                                                24049 non-null  int64         \n",
            " 13  WW                                                24049 non-null  category      \n",
            " 14  W'W'                                              24049 non-null  category      \n",
            " 15  c                                                 24049 non-null  category      \n",
            " 16  VV                                                24049 non-null  int8          \n",
            " 17  Td                                                24049 non-null  int64         \n",
            " 18  Кол-во рейсов вылет                               24049 non-null  float64       \n",
            " 19  Среднее время ожидания                            24049 non-null  float64       \n",
            " 20  Суммарное время ожидания                          24049 non-null  float64       \n",
            " 21  Макс время ожидания                               24049 non-null  float64       \n",
            " 22  Кол-во рейсов вылет по рассписанию                24049 non-null  float64       \n",
            " 23  Среднее время ожидания между прилет и вылет       24049 non-null  float64       \n",
            " 24  Суммарное время ожидания в  между прилет и вылет  24049 non-null  float64       \n",
            " 25  Макс время ожидания между прилет и вылет          24049 non-null  float64       \n",
            " 26  day_of_week                                       24049 non-null  category      \n",
            " 27  hour                                              24049 non-null  category      \n",
            "dtypes: category(11), datetime64[ns](1), float64(11), int64(4), int8(1)\n",
            "memory usage: 3.2 MB\n"
          ]
        }
      ]
    },
    {
      "cell_type": "code",
      "source": [
        "df_train = df[df['TimeThirty2']<'2022-06-01']"
      ],
      "metadata": {
        "id": "VUrJDyvPp_NK"
      },
      "execution_count": null,
      "outputs": []
    },
    {
      "cell_type": "code",
      "source": [
        "df_test = df[df['TimeThirty2']>='2022-06-01']"
      ],
      "metadata": {
        "id": "dV_6CJCRtON9"
      },
      "execution_count": null,
      "outputs": []
    },
    {
      "cell_type": "markdown",
      "metadata": {
        "id": "0xUtocPGjFYp"
      },
      "source": [
        "### Преобразованиие данных в X и y"
      ]
    },
    {
      "cell_type": "code",
      "execution_count": null,
      "metadata": {
        "id": "uAK70j4LjFYp"
      },
      "outputs": [],
      "source": [
        "X = df_train.drop(['TotalSumm', 'TimeThirty2'], axis=1)\n",
        "y_regression = df_train['TotalSumm']\n",
        "\n",
        "cat_features = ['Торговая точка', 'Касса', 'orgtype', 'terminal', 'tzone', 'DD', 'WW', \"W'W'\", 'c', 'VV', 'day_of_week', 'hour']\n",
        "\n",
        "X_test = df_test.drop(['TotalSumm', 'TimeThirty2'], axis=1)\n",
        "y_test_regression = df_test['TotalSumm']"
      ]
    },
    {
      "cell_type": "markdown",
      "metadata": {
        "_cell_guid": "0283baf2-6a41-4697-81f4-626d96be4dfe",
        "_uuid": "cfe280eddf43c84b74bf621f4a4248bea1641dad",
        "id": "ouxLSJjbjFYp"
      },
      "source": [
        "## Обучение и тестирование моделей"
      ]
    },
    {
      "cell_type": "markdown",
      "metadata": {
        "id": "Et32Hf6kjFYp"
      },
      "source": [
        "### Подход №1: Регрессия"
      ]
    },
    {
      "cell_type": "code",
      "execution_count": null,
      "metadata": {
        "id": "CIrlItCYjFYq"
      },
      "outputs": [],
      "source": [
        "X_train, X_val, y_train, y_val = train_test_split(X, y_regression, test_size=0.2, random_state=42)"
      ]
    },
    {
      "cell_type": "code",
      "execution_count": null,
      "metadata": {
        "id": "EIEvIb6ajFYq",
        "outputId": "4fbfe4ce-2aba-4361-b3f7-e0f85c2a5a2e",
        "colab": {
          "base_uri": "https://localhost:8080/"
        }
      },
      "outputs": [
        {
          "output_type": "stream",
          "name": "stdout",
          "text": [
            "Learning rate set to 0.072476\n",
            "0:\tlearn: 1029105.6516131\ttest: 1043368.7649673\tbest: 1043368.7649673 (0)\ttotal: 74.2ms\tremaining: 1m 14s\n",
            "100:\tlearn: 585739.8271864\ttest: 614038.1974732\tbest: 614038.1974732 (100)\ttotal: 2.06s\tremaining: 18.3s\n",
            "200:\tlearn: 558472.1871963\ttest: 610948.0183146\tbest: 610081.1961396 (186)\ttotal: 7.24s\tremaining: 28.8s\n",
            "300:\tlearn: 537028.9272000\ttest: 612223.4631136\tbest: 610081.1961396 (186)\ttotal: 12.5s\tremaining: 29.1s\n",
            "400:\tlearn: 514618.7337993\ttest: 612727.6022321\tbest: 610081.1961396 (186)\ttotal: 17.3s\tremaining: 25.9s\n",
            "500:\tlearn: 494538.2860565\ttest: 615573.4777953\tbest: 610081.1961396 (186)\ttotal: 20s\tremaining: 19.9s\n",
            "600:\tlearn: 477082.6058939\ttest: 616038.1278564\tbest: 610081.1961396 (186)\ttotal: 24.1s\tremaining: 16s\n",
            "700:\tlearn: 462204.0411363\ttest: 617674.7894993\tbest: 610081.1961396 (186)\ttotal: 27.6s\tremaining: 11.8s\n",
            "800:\tlearn: 448133.1976167\ttest: 618709.5107850\tbest: 610081.1961396 (186)\ttotal: 30.8s\tremaining: 7.65s\n",
            "900:\tlearn: 434144.3578000\ttest: 619539.5396877\tbest: 610081.1961396 (186)\ttotal: 33.1s\tremaining: 3.64s\n",
            "999:\tlearn: 422215.1186383\ttest: 620307.3368071\tbest: 610081.1961396 (186)\ttotal: 35.5s\tremaining: 0us\n",
            "\n",
            "bestTest = 610081.1961\n",
            "bestIteration = 186\n",
            "\n",
            "Shrink model to first 187 iterations.\n"
          ]
        },
        {
          "output_type": "execute_result",
          "data": {
            "text/plain": [
              "<catboost.core.CatBoostRegressor at 0x7ff8b6bb7d50>"
            ]
          },
          "metadata": {},
          "execution_count": 63
        }
      ],
      "source": [
        "model_regression = CatBoostRegressor(\n",
        "    verbose=100,\n",
        "    cat_features=cat_features\n",
        ")\n",
        "\n",
        "model_regression.fit(X_train, y_train, eval_set=(X_val, y_val))"
      ]
    },
    {
      "cell_type": "code",
      "execution_count": null,
      "metadata": {
        "id": "9ve20INAjFYq"
      },
      "outputs": [],
      "source": [
        "preds_test_regression = model_regression.predict(X_test[model_regression.feature_names_])"
      ]
    },
    {
      "cell_type": "code",
      "source": [
        "# print('Test MAE:', mean_absolute_error(y_test_regression, preds_test_regression))"
      ],
      "metadata": {
        "colab": {
          "base_uri": "https://localhost:8080/"
        },
        "id": "JMyGlrHdFPnH",
        "outputId": "2695d76f-124c-4d38-94f0-64c68a4ec9dd"
      },
      "execution_count": null,
      "outputs": [
        {
          "output_type": "stream",
          "name": "stdout",
          "text": [
            "Test MAE: 356668.2559713678\n"
          ]
        }
      ]
    },
    {
      "cell_type": "code",
      "execution_count": null,
      "metadata": {
        "id": "73yArcwHjFYr",
        "outputId": "f6a74d27-9e5d-46a7-c37d-c1f145886403",
        "colab": {
          "base_uri": "https://localhost:8080/"
        }
      },
      "outputs": [
        {
          "output_type": "stream",
          "name": "stdout",
          "text": [
            "Test MAE: 353270.0749009358\n"
          ]
        }
      ],
      "source": [
        "print('Test MAE:', mean_absolute_error(y_test_regression, preds_test_regression))"
      ]
    },
    {
      "cell_type": "markdown",
      "source": [
        "## Предсказание"
      ],
      "metadata": {
        "id": "PeVNxGYsT1iN"
      }
    },
    {
      "cell_type": "code",
      "source": [
        "df_test['pred'] = preds_test_regression"
      ],
      "metadata": {
        "id": "3Zmc8Ts2T374"
      },
      "execution_count": null,
      "outputs": []
    },
    {
      "cell_type": "code",
      "source": [
        "df_test.head(3)"
      ],
      "metadata": {
        "colab": {
          "base_uri": "https://localhost:8080/"
        },
        "id": "sKOJ3E9aUB3e",
        "outputId": "e7bb29bf-7912-4983-f6fd-12c5dba5a188"
      },
      "execution_count": null,
      "outputs": [
        {
          "output_type": "execute_result",
          "data": {
            "text/plain": [
              "            Торговая точка Касса   orgtype terminal                  tzone  \\\n",
              "11840  Торговая точка 3726  5944   Общепит        B  Чистая зона ВВЛ-вылет   \n",
              "11841  Торговая точка 8998  9887  Торговля        B  Чистая зона ВВЛ-вылет   \n",
              "11842  Торговая точка 8313   538   Общепит        B  Чистая зона ВВЛ-вылет   \n",
              "\n",
              "       TotalSumm TimeThirty2   T    P0     P   U                       DD  Ff  \\\n",
              "11840   500000.0  2022-06-01  14 749.0 765.8  94  Ветер, дующий с востока   2   \n",
              "11841    88080.0  2022-06-01  14 749.0 765.8  94  Ветер, дующий с востока   2   \n",
              "11842   303360.0  2022-06-01  14 749.0 765.8  94  Ветер, дующий с востока   2   \n",
              "\n",
              "        WW W'W'                                                 c  VV  Td  \\\n",
              "11840  нет  нет  Рассеянная (40-50%) 180 м, сплошная (100%) 780 м  18  13   \n",
              "11841  нет  нет  Рассеянная (40-50%) 180 м, сплошная (100%) 780 м  18  13   \n",
              "11842  нет  нет  Рассеянная (40-50%) 180 м, сплошная (100%) 780 м  18  13   \n",
              "\n",
              "       Кол-во рейсов вылет  Среднее время ожидания  Суммарное время ожидания  \\\n",
              "11840                997.0                     0.1                      78.9   \n",
              "11841                997.0                     0.1                      78.9   \n",
              "11842                997.0                     0.1                      78.9   \n",
              "\n",
              "       Макс время ожидания  Кол-во рейсов вылет по рассписанию  \\\n",
              "11840                  0.3                                 8.0   \n",
              "11841                  0.3                                 8.0   \n",
              "11842                  0.3                                 8.0   \n",
              "\n",
              "       Среднее время ожидания между прилет и вылет  \\\n",
              "11840                                          0.2   \n",
              "11841                                          0.2   \n",
              "11842                                          0.2   \n",
              "\n",
              "       Суммарное время ожидания в  между прилет и вылет  \\\n",
              "11840                                               2.0   \n",
              "11841                                               2.0   \n",
              "11842                                               2.0   \n",
              "\n",
              "       Макс время ожидания между прилет и вылет day_of_week hour     pred  \n",
              "11840                                       0.8           2    0 548328.3  \n",
              "11841                                       0.8           2    0 174736.5  \n",
              "11842                                       0.8           2    0 321691.6  "
            ],
            "text/html": [
              "\n",
              "  <div id=\"df-ac46858b-92c8-4180-b0d2-d2cf06ca5db3\">\n",
              "    <div class=\"colab-df-container\">\n",
              "      <div>\n",
              "<style scoped>\n",
              "    .dataframe tbody tr th:only-of-type {\n",
              "        vertical-align: middle;\n",
              "    }\n",
              "\n",
              "    .dataframe tbody tr th {\n",
              "        vertical-align: top;\n",
              "    }\n",
              "\n",
              "    .dataframe thead th {\n",
              "        text-align: right;\n",
              "    }\n",
              "</style>\n",
              "<table border=\"1\" class=\"dataframe\">\n",
              "  <thead>\n",
              "    <tr style=\"text-align: right;\">\n",
              "      <th></th>\n",
              "      <th>Торговая точка</th>\n",
              "      <th>Касса</th>\n",
              "      <th>orgtype</th>\n",
              "      <th>terminal</th>\n",
              "      <th>tzone</th>\n",
              "      <th>TotalSumm</th>\n",
              "      <th>TimeThirty2</th>\n",
              "      <th>T</th>\n",
              "      <th>P0</th>\n",
              "      <th>P</th>\n",
              "      <th>U</th>\n",
              "      <th>DD</th>\n",
              "      <th>Ff</th>\n",
              "      <th>WW</th>\n",
              "      <th>W'W'</th>\n",
              "      <th>c</th>\n",
              "      <th>VV</th>\n",
              "      <th>Td</th>\n",
              "      <th>Кол-во рейсов вылет</th>\n",
              "      <th>Среднее время ожидания</th>\n",
              "      <th>Суммарное время ожидания</th>\n",
              "      <th>Макс время ожидания</th>\n",
              "      <th>Кол-во рейсов вылет по рассписанию</th>\n",
              "      <th>Среднее время ожидания между прилет и вылет</th>\n",
              "      <th>Суммарное время ожидания в  между прилет и вылет</th>\n",
              "      <th>Макс время ожидания между прилет и вылет</th>\n",
              "      <th>day_of_week</th>\n",
              "      <th>hour</th>\n",
              "      <th>pred</th>\n",
              "    </tr>\n",
              "  </thead>\n",
              "  <tbody>\n",
              "    <tr>\n",
              "      <th>11840</th>\n",
              "      <td>Торговая точка 3726</td>\n",
              "      <td>5944</td>\n",
              "      <td>Общепит</td>\n",
              "      <td>B</td>\n",
              "      <td>Чистая зона ВВЛ-вылет</td>\n",
              "      <td>500000.0</td>\n",
              "      <td>2022-06-01</td>\n",
              "      <td>14</td>\n",
              "      <td>749.0</td>\n",
              "      <td>765.8</td>\n",
              "      <td>94</td>\n",
              "      <td>Ветер, дующий с востока</td>\n",
              "      <td>2</td>\n",
              "      <td>нет</td>\n",
              "      <td>нет</td>\n",
              "      <td>Рассеянная (40-50%) 180 м, сплошная (100%) 780 м</td>\n",
              "      <td>18</td>\n",
              "      <td>13</td>\n",
              "      <td>997.0</td>\n",
              "      <td>0.1</td>\n",
              "      <td>78.9</td>\n",
              "      <td>0.3</td>\n",
              "      <td>8.0</td>\n",
              "      <td>0.2</td>\n",
              "      <td>2.0</td>\n",
              "      <td>0.8</td>\n",
              "      <td>2</td>\n",
              "      <td>0</td>\n",
              "      <td>548328.3</td>\n",
              "    </tr>\n",
              "    <tr>\n",
              "      <th>11841</th>\n",
              "      <td>Торговая точка 8998</td>\n",
              "      <td>9887</td>\n",
              "      <td>Торговля</td>\n",
              "      <td>B</td>\n",
              "      <td>Чистая зона ВВЛ-вылет</td>\n",
              "      <td>88080.0</td>\n",
              "      <td>2022-06-01</td>\n",
              "      <td>14</td>\n",
              "      <td>749.0</td>\n",
              "      <td>765.8</td>\n",
              "      <td>94</td>\n",
              "      <td>Ветер, дующий с востока</td>\n",
              "      <td>2</td>\n",
              "      <td>нет</td>\n",
              "      <td>нет</td>\n",
              "      <td>Рассеянная (40-50%) 180 м, сплошная (100%) 780 м</td>\n",
              "      <td>18</td>\n",
              "      <td>13</td>\n",
              "      <td>997.0</td>\n",
              "      <td>0.1</td>\n",
              "      <td>78.9</td>\n",
              "      <td>0.3</td>\n",
              "      <td>8.0</td>\n",
              "      <td>0.2</td>\n",
              "      <td>2.0</td>\n",
              "      <td>0.8</td>\n",
              "      <td>2</td>\n",
              "      <td>0</td>\n",
              "      <td>174736.5</td>\n",
              "    </tr>\n",
              "    <tr>\n",
              "      <th>11842</th>\n",
              "      <td>Торговая точка 8313</td>\n",
              "      <td>538</td>\n",
              "      <td>Общепит</td>\n",
              "      <td>B</td>\n",
              "      <td>Чистая зона ВВЛ-вылет</td>\n",
              "      <td>303360.0</td>\n",
              "      <td>2022-06-01</td>\n",
              "      <td>14</td>\n",
              "      <td>749.0</td>\n",
              "      <td>765.8</td>\n",
              "      <td>94</td>\n",
              "      <td>Ветер, дующий с востока</td>\n",
              "      <td>2</td>\n",
              "      <td>нет</td>\n",
              "      <td>нет</td>\n",
              "      <td>Рассеянная (40-50%) 180 м, сплошная (100%) 780 м</td>\n",
              "      <td>18</td>\n",
              "      <td>13</td>\n",
              "      <td>997.0</td>\n",
              "      <td>0.1</td>\n",
              "      <td>78.9</td>\n",
              "      <td>0.3</td>\n",
              "      <td>8.0</td>\n",
              "      <td>0.2</td>\n",
              "      <td>2.0</td>\n",
              "      <td>0.8</td>\n",
              "      <td>2</td>\n",
              "      <td>0</td>\n",
              "      <td>321691.6</td>\n",
              "    </tr>\n",
              "  </tbody>\n",
              "</table>\n",
              "</div>\n",
              "      <button class=\"colab-df-convert\" onclick=\"convertToInteractive('df-ac46858b-92c8-4180-b0d2-d2cf06ca5db3')\"\n",
              "              title=\"Convert this dataframe to an interactive table.\"\n",
              "              style=\"display:none;\">\n",
              "        \n",
              "  <svg xmlns=\"http://www.w3.org/2000/svg\" height=\"24px\"viewBox=\"0 0 24 24\"\n",
              "       width=\"24px\">\n",
              "    <path d=\"M0 0h24v24H0V0z\" fill=\"none\"/>\n",
              "    <path d=\"M18.56 5.44l.94 2.06.94-2.06 2.06-.94-2.06-.94-.94-2.06-.94 2.06-2.06.94zm-11 1L8.5 8.5l.94-2.06 2.06-.94-2.06-.94L8.5 2.5l-.94 2.06-2.06.94zm10 10l.94 2.06.94-2.06 2.06-.94-2.06-.94-.94-2.06-.94 2.06-2.06.94z\"/><path d=\"M17.41 7.96l-1.37-1.37c-.4-.4-.92-.59-1.43-.59-.52 0-1.04.2-1.43.59L10.3 9.45l-7.72 7.72c-.78.78-.78 2.05 0 2.83L4 21.41c.39.39.9.59 1.41.59.51 0 1.02-.2 1.41-.59l7.78-7.78 2.81-2.81c.8-.78.8-2.07 0-2.86zM5.41 20L4 18.59l7.72-7.72 1.47 1.35L5.41 20z\"/>\n",
              "  </svg>\n",
              "      </button>\n",
              "      \n",
              "  <style>\n",
              "    .colab-df-container {\n",
              "      display:flex;\n",
              "      flex-wrap:wrap;\n",
              "      gap: 12px;\n",
              "    }\n",
              "\n",
              "    .colab-df-convert {\n",
              "      background-color: #E8F0FE;\n",
              "      border: none;\n",
              "      border-radius: 50%;\n",
              "      cursor: pointer;\n",
              "      display: none;\n",
              "      fill: #1967D2;\n",
              "      height: 32px;\n",
              "      padding: 0 0 0 0;\n",
              "      width: 32px;\n",
              "    }\n",
              "\n",
              "    .colab-df-convert:hover {\n",
              "      background-color: #E2EBFA;\n",
              "      box-shadow: 0px 1px 2px rgba(60, 64, 67, 0.3), 0px 1px 3px 1px rgba(60, 64, 67, 0.15);\n",
              "      fill: #174EA6;\n",
              "    }\n",
              "\n",
              "    [theme=dark] .colab-df-convert {\n",
              "      background-color: #3B4455;\n",
              "      fill: #D2E3FC;\n",
              "    }\n",
              "\n",
              "    [theme=dark] .colab-df-convert:hover {\n",
              "      background-color: #434B5C;\n",
              "      box-shadow: 0px 1px 3px 1px rgba(0, 0, 0, 0.15);\n",
              "      filter: drop-shadow(0px 1px 2px rgba(0, 0, 0, 0.3));\n",
              "      fill: #FFFFFF;\n",
              "    }\n",
              "  </style>\n",
              "\n",
              "      <script>\n",
              "        const buttonEl =\n",
              "          document.querySelector('#df-ac46858b-92c8-4180-b0d2-d2cf06ca5db3 button.colab-df-convert');\n",
              "        buttonEl.style.display =\n",
              "          google.colab.kernel.accessAllowed ? 'block' : 'none';\n",
              "\n",
              "        async function convertToInteractive(key) {\n",
              "          const element = document.querySelector('#df-ac46858b-92c8-4180-b0d2-d2cf06ca5db3');\n",
              "          const dataTable =\n",
              "            await google.colab.kernel.invokeFunction('convertToInteractive',\n",
              "                                                     [key], {});\n",
              "          if (!dataTable) return;\n",
              "\n",
              "          const docLinkHtml = 'Like what you see? Visit the ' +\n",
              "            '<a target=\"_blank\" href=https://colab.research.google.com/notebooks/data_table.ipynb>data table notebook</a>'\n",
              "            + ' to learn more about interactive tables.';\n",
              "          element.innerHTML = '';\n",
              "          dataTable['output_type'] = 'display_data';\n",
              "          await google.colab.output.renderOutput(dataTable, element);\n",
              "          const docLink = document.createElement('div');\n",
              "          docLink.innerHTML = docLinkHtml;\n",
              "          element.appendChild(docLink);\n",
              "        }\n",
              "      </script>\n",
              "    </div>\n",
              "  </div>\n",
              "  "
            ]
          },
          "metadata": {},
          "execution_count": 68
        }
      ]
    },
    {
      "cell_type": "code",
      "source": [
        "df_test.to_csv('pred.csv', sep=';', index=None)"
      ],
      "metadata": {
        "id": "plG2AgQNUIr6"
      },
      "execution_count": null,
      "outputs": []
    },
    {
      "cell_type": "code",
      "source": [
        "df_test.to_excel(\"pred.xlsx\")"
      ],
      "metadata": {
        "id": "D44PuTTYU6V4"
      },
      "execution_count": null,
      "outputs": []
    },
    {
      "cell_type": "markdown",
      "source": [
        "# feature_importance"
      ],
      "metadata": {
        "id": "dpONjnwtISzn"
      }
    },
    {
      "cell_type": "code",
      "source": [
        "feature_importance = model_regression.feature_importances_\n",
        "sorted_idx = np.argsort(feature_importance)\n",
        "fig = plt.figure(figsize=(3, 6))\n",
        "plt.barh(range(len(sorted_idx)), feature_importance[sorted_idx], align='center')\n",
        "plt.yticks(range(len(sorted_idx)), np.array(X_test.columns)[sorted_idx])\n",
        "plt.title('Feature Importance')"
      ],
      "metadata": {
        "colab": {
          "base_uri": "https://localhost:8080/",
          "height": 436
        },
        "id": "EE7ig0W2fIAH",
        "outputId": "5c0beb9e-ff54-4158-b671-269ca8f0ac6c"
      },
      "execution_count": null,
      "outputs": [
        {
          "output_type": "execute_result",
          "data": {
            "text/plain": [
              "Text(0.5, 1.0, 'Feature Importance')"
            ]
          },
          "metadata": {},
          "execution_count": 93
        },
        {
          "output_type": "display_data",
          "data": {
            "text/plain": [
              "<Figure size 216x432 with 1 Axes>"
            ],
            "image/png": "[encoded data removed]"
          },
          "metadata": {}
        }
      ]
    },
    {
      "cell_type": "code",
      "source": [
        "feature_importance = model_regression.feature_importances_\n",
        "sorted_idx = np.argsort(feature_importance)\n",
        "fig = plt.figure(figsize=(12, 6))\n",
        "plt.barh(range(len(sorted_idx)), feature_importance[sorted_idx], align='center')\n",
        "plt.yticks(range(len(sorted_idx)), np.array(X_test.columns)[sorted_idx])\n",
        "plt.title('Feature Importance')"
      ],
      "metadata": {
        "colab": {
          "base_uri": "https://localhost:8080/",
          "height": 456
        },
        "id": "sQ8WgO16DJ5Z",
        "outputId": "321e01c9-c241-4b7d-b841-7102f702f00a"
      },
      "execution_count": null,
      "outputs": [
        {
          "output_type": "execute_result",
          "data": {
            "text/plain": [
              "Text(0.5, 1.0, 'Feature Importance')"
            ]
          },
          "metadata": {},
          "execution_count": 66
        },
        {
          "output_type": "display_data",
          "data": {
            "text/plain": [
              "<Figure size 864x432 with 1 Axes>"
            ],
            "image/png": "[encoded data removed]"
          },
          "metadata": {}
        }
      ]
    },
    {
      "cell_type": "markdown",
      "source": [],
      "metadata": {
        "id": "41-oQwdhTJyW"
      }
    },
    {
      "cell_type": "markdown",
      "metadata": {
        "id": "32e145c7-2b50-4149-8bbc-2e4ab6fbcbb2"
      },
      "source": [
        "# Gradient Boosting lightgbm"
      ]
    },
    {
      "cell_type": "code",
      "source": [
        "df[['Торговая точка', 'Касса', 'orgtype', 'terminal', 'tzone', 'DD', 'WW', \"W'W'\", 'c', 'VV', 'day_of_week', 'hour']] = df[['Торговая точка', 'Касса', 'orgtype', 'terminal', 'tzone', 'DD', 'WW', \"W'W'\", 'c', 'VV', 'day_of_week', 'hour']].astype('category')"
      ],
      "metadata": {
        "id": "v0DrnkwZ-8OA"
      },
      "execution_count": null,
      "outputs": []
    },
    {
      "cell_type": "code",
      "source": [
        "df[ 'VV' ] = df[ 'VV' ].cat.codes"
      ],
      "metadata": {
        "id": "Nh-pwtaE-8OJ"
      },
      "execution_count": null,
      "outputs": []
    },
    {
      "cell_type": "code",
      "source": [
        "cat_columns = df.select_dtypes(['category']).columns\n",
        "cat_columns"
      ],
      "metadata": {
        "colab": {
          "base_uri": "https://localhost:8080/"
        },
        "id": "crmoUqgG_ZTp",
        "outputId": "df6d2a8d-a51a-4ca3-d860-2e365081f301"
      },
      "execution_count": null,
      "outputs": [
        {
          "output_type": "execute_result",
          "data": {
            "text/plain": [
              "Index(['Торговая точка', 'Касса', 'orgtype', 'terminal', 'tzone', 'DD', 'WW',\n",
              "       'W'W'', 'c', 'day_of_week', 'hour'],\n",
              "      dtype='object')"
            ]
          },
          "metadata": {},
          "execution_count": 73
        }
      ]
    },
    {
      "cell_type": "code",
      "source": [
        "df[cat_columns] = df[cat_columns].apply(lambda x: x.cat.codes)"
      ],
      "metadata": {
        "id": "GFJ6v120-8OJ"
      },
      "execution_count": null,
      "outputs": []
    },
    {
      "cell_type": "code",
      "source": [
        "df.head(3)"
      ],
      "metadata": {
        "colab": {
          "base_uri": "https://localhost:8080/",
          "height": 294
        },
        "outputId": "2a6f1b00-73de-4297-f084-74384b112f96",
        "id": "CaMKP0Sh-8OK"
      },
      "execution_count": null,
      "outputs": [
        {
          "output_type": "execute_result",
          "data": {
            "text/plain": [
              "   Торговая точка  Касса  orgtype  terminal  tzone  TotalSumm TimeThirty2  T  \\\n",
              "0               0      8        0         0      1   755448.0  2022-05-01  2   \n",
              "1               6      1        0         0      1    44560.0  2022-05-01  2   \n",
              "2               6      5        0         0      1   242160.0  2022-05-01  2   \n",
              "\n",
              "     P0     P   U  DD  Ff  WW  W'W'   c  VV  Td  Кол-во рейсов вылет  \\\n",
              "0 749.7 767.3  65   8   1   8     2  53  18  -4                583.0   \n",
              "1 749.7 767.3  65   8   1   8     2  53  18  -4                583.0   \n",
              "2 749.7 767.3  65   8   1   8     2  53  18  -4                583.0   \n",
              "\n",
              "   Среднее время ожидания  Суммарное время ожидания  Макс время ожидания  \\\n",
              "0                     0.1                      45.5                  0.3   \n",
              "1                     0.1                      45.5                  0.3   \n",
              "2                     0.1                      45.5                  0.3   \n",
              "\n",
              "   Кол-во рейсов вылет по рассписанию  \\\n",
              "0                                 0.0   \n",
              "1                                 0.0   \n",
              "2                                 0.0   \n",
              "\n",
              "   Среднее время ожидания между прилет и вылет  \\\n",
              "0                                          0.0   \n",
              "1                                          0.0   \n",
              "2                                          0.0   \n",
              "\n",
              "   Суммарное время ожидания в  между прилет и вылет  \\\n",
              "0                                               0.0   \n",
              "1                                               0.0   \n",
              "2                                               0.0   \n",
              "\n",
              "   Макс время ожидания между прилет и вылет  day_of_week  hour  \n",
              "0                                       0.0            6     0  \n",
              "1                                       0.0            6     0  \n",
              "2                                       0.0            6     0  "
            ],
            "text/html": [
              "\n",
              "  <div id=\"df-c93a2eeb-e262-4619-9540-ad514a87760a\">\n",
              "    <div class=\"colab-df-container\">\n",
              "      <div>\n",
              "<style scoped>\n",
              "    .dataframe tbody tr th:only-of-type {\n",
              "        vertical-align: middle;\n",
              "    }\n",
              "\n",
              "    .dataframe tbody tr th {\n",
              "        vertical-align: top;\n",
              "    }\n",
              "\n",
              "    .dataframe thead th {\n",
              "        text-align: right;\n",
              "    }\n",
              "</style>\n",
              "<table border=\"1\" class=\"dataframe\">\n",
              "  <thead>\n",
              "    <tr style=\"text-align: right;\">\n",
              "      <th></th>\n",
              "      <th>Торговая точка</th>\n",
              "      <th>Касса</th>\n",
              "      <th>orgtype</th>\n",
              "      <th>terminal</th>\n",
              "      <th>tzone</th>\n",
              "      <th>TotalSumm</th>\n",
              "      <th>TimeThirty2</th>\n",
              "      <th>T</th>\n",
              "      <th>P0</th>\n",
              "      <th>P</th>\n",
              "      <th>U</th>\n",
              "      <th>DD</th>\n",
              "      <th>Ff</th>\n",
              "      <th>WW</th>\n",
              "      <th>W'W'</th>\n",
              "      <th>c</th>\n",
              "      <th>VV</th>\n",
              "      <th>Td</th>\n",
              "      <th>Кол-во рейсов вылет</th>\n",
              "      <th>Среднее время ожидания</th>\n",
              "      <th>Суммарное время ожидания</th>\n",
              "      <th>Макс время ожидания</th>\n",
              "      <th>Кол-во рейсов вылет по рассписанию</th>\n",
              "      <th>Среднее время ожидания между прилет и вылет</th>\n",
              "      <th>Суммарное время ожидания в  между прилет и вылет</th>\n",
              "      <th>Макс время ожидания между прилет и вылет</th>\n",
              "      <th>day_of_week</th>\n",
              "      <th>hour</th>\n",
              "    </tr>\n",
              "  </thead>\n",
              "  <tbody>\n",
              "    <tr>\n",
              "      <th>0</th>\n",
              "      <td>0</td>\n",
              "      <td>8</td>\n",
              "      <td>0</td>\n",
              "      <td>0</td>\n",
              "      <td>1</td>\n",
              "      <td>755448.0</td>\n",
              "      <td>2022-05-01</td>\n",
              "      <td>2</td>\n",
              "      <td>749.7</td>\n",
              "      <td>767.3</td>\n",
              "      <td>65</td>\n",
              "      <td>8</td>\n",
              "      <td>1</td>\n",
              "      <td>8</td>\n",
              "      <td>2</td>\n",
              "      <td>53</td>\n",
              "      <td>18</td>\n",
              "      <td>-4</td>\n",
              "      <td>583.0</td>\n",
              "      <td>0.1</td>\n",
              "      <td>45.5</td>\n",
              "      <td>0.3</td>\n",
              "      <td>0.0</td>\n",
              "      <td>0.0</td>\n",
              "      <td>0.0</td>\n",
              "      <td>0.0</td>\n",
              "      <td>6</td>\n",
              "      <td>0</td>\n",
              "    </tr>\n",
              "    <tr>\n",
              "      <th>1</th>\n",
              "      <td>6</td>\n",
              "      <td>1</td>\n",
              "      <td>0</td>\n",
              "      <td>0</td>\n",
              "      <td>1</td>\n",
              "      <td>44560.0</td>\n",
              "      <td>2022-05-01</td>\n",
              "      <td>2</td>\n",
              "      <td>749.7</td>\n",
              "      <td>767.3</td>\n",
              "      <td>65</td>\n",
              "      <td>8</td>\n",
              "      <td>1</td>\n",
              "      <td>8</td>\n",
              "      <td>2</td>\n",
              "      <td>53</td>\n",
              "      <td>18</td>\n",
              "      <td>-4</td>\n",
              "      <td>583.0</td>\n",
              "      <td>0.1</td>\n",
              "      <td>45.5</td>\n",
              "      <td>0.3</td>\n",
              "      <td>0.0</td>\n",
              "      <td>0.0</td>\n",
              "      <td>0.0</td>\n",
              "      <td>0.0</td>\n",
              "      <td>6</td>\n",
              "      <td>0</td>\n",
              "    </tr>\n",
              "    <tr>\n",
              "      <th>2</th>\n",
              "      <td>6</td>\n",
              "      <td>5</td>\n",
              "      <td>0</td>\n",
              "      <td>0</td>\n",
              "      <td>1</td>\n",
              "      <td>242160.0</td>\n",
              "      <td>2022-05-01</td>\n",
              "      <td>2</td>\n",
              "      <td>749.7</td>\n",
              "      <td>767.3</td>\n",
              "      <td>65</td>\n",
              "      <td>8</td>\n",
              "      <td>1</td>\n",
              "      <td>8</td>\n",
              "      <td>2</td>\n",
              "      <td>53</td>\n",
              "      <td>18</td>\n",
              "      <td>-4</td>\n",
              "      <td>583.0</td>\n",
              "      <td>0.1</td>\n",
              "      <td>45.5</td>\n",
              "      <td>0.3</td>\n",
              "      <td>0.0</td>\n",
              "      <td>0.0</td>\n",
              "      <td>0.0</td>\n",
              "      <td>0.0</td>\n",
              "      <td>6</td>\n",
              "      <td>0</td>\n",
              "    </tr>\n",
              "  </tbody>\n",
              "</table>\n",
              "</div>\n",
              "      <button class=\"colab-df-convert\" onclick=\"convertToInteractive('df-c93a2eeb-e262-4619-9540-ad514a87760a')\"\n",
              "              title=\"Convert this dataframe to an interactive table.\"\n",
              "              style=\"display:none;\">\n",
              "        \n",
              "  <svg xmlns=\"http://www.w3.org/2000/svg\" height=\"24px\"viewBox=\"0 0 24 24\"\n",
              "       width=\"24px\">\n",
              "    <path d=\"M0 0h24v24H0V0z\" fill=\"none\"/>\n",
              "    <path d=\"M18.56 5.44l.94 2.06.94-2.06 2.06-.94-2.06-.94-.94-2.06-.94 2.06-2.06.94zm-11 1L8.5 8.5l.94-2.06 2.06-.94-2.06-.94L8.5 2.5l-.94 2.06-2.06.94zm10 10l.94 2.06.94-2.06 2.06-.94-2.06-.94-.94-2.06-.94 2.06-2.06.94z\"/><path d=\"M17.41 7.96l-1.37-1.37c-.4-.4-.92-.59-1.43-.59-.52 0-1.04.2-1.43.59L10.3 9.45l-7.72 7.72c-.78.78-.78 2.05 0 2.83L4 21.41c.39.39.9.59 1.41.59.51 0 1.02-.2 1.41-.59l7.78-7.78 2.81-2.81c.8-.78.8-2.07 0-2.86zM5.41 20L4 18.59l7.72-7.72 1.47 1.35L5.41 20z\"/>\n",
              "  </svg>\n",
              "      </button>\n",
              "      \n",
              "  <style>\n",
              "    .colab-df-container {\n",
              "      display:flex;\n",
              "      flex-wrap:wrap;\n",
              "      gap: 12px;\n",
              "    }\n",
              "\n",
              "    .colab-df-convert {\n",
              "      background-color: #E8F0FE;\n",
              "      border: none;\n",
              "      border-radius: 50%;\n",
              "      cursor: pointer;\n",
              "      display: none;\n",
              "      fill: #1967D2;\n",
              "      height: 32px;\n",
              "      padding: 0 0 0 0;\n",
              "      width: 32px;\n",
              "    }\n",
              "\n",
              "    .colab-df-convert:hover {\n",
              "      background-color: #E2EBFA;\n",
              "      box-shadow: 0px 1px 2px rgba(60, 64, 67, 0.3), 0px 1px 3px 1px rgba(60, 64, 67, 0.15);\n",
              "      fill: #174EA6;\n",
              "    }\n",
              "\n",
              "    [theme=dark] .colab-df-convert {\n",
              "      background-color: #3B4455;\n",
              "      fill: #D2E3FC;\n",
              "    }\n",
              "\n",
              "    [theme=dark] .colab-df-convert:hover {\n",
              "      background-color: #434B5C;\n",
              "      box-shadow: 0px 1px 3px 1px rgba(0, 0, 0, 0.15);\n",
              "      filter: drop-shadow(0px 1px 2px rgba(0, 0, 0, 0.3));\n",
              "      fill: #FFFFFF;\n",
              "    }\n",
              "  </style>\n",
              "\n",
              "      <script>\n",
              "        const buttonEl =\n",
              "          document.querySelector('#df-c93a2eeb-e262-4619-9540-ad514a87760a button.colab-df-convert');\n",
              "        buttonEl.style.display =\n",
              "          google.colab.kernel.accessAllowed ? 'block' : 'none';\n",
              "\n",
              "        async function convertToInteractive(key) {\n",
              "          const element = document.querySelector('#df-c93a2eeb-e262-4619-9540-ad514a87760a');\n",
              "          const dataTable =\n",
              "            await google.colab.kernel.invokeFunction('convertToInteractive',\n",
              "                                                     [key], {});\n",
              "          if (!dataTable) return;\n",
              "\n",
              "          const docLinkHtml = 'Like what you see? Visit the ' +\n",
              "            '<a target=\"_blank\" href=https://colab.research.google.com/notebooks/data_table.ipynb>data table notebook</a>'\n",
              "            + ' to learn more about interactive tables.';\n",
              "          element.innerHTML = '';\n",
              "          dataTable['output_type'] = 'display_data';\n",
              "          await google.colab.output.renderOutput(dataTable, element);\n",
              "          const docLink = document.createElement('div');\n",
              "          docLink.innerHTML = docLinkHtml;\n",
              "          element.appendChild(docLink);\n",
              "        }\n",
              "      </script>\n",
              "    </div>\n",
              "  </div>\n",
              "  "
            ]
          },
          "metadata": {},
          "execution_count": 75
        }
      ]
    },
    {
      "cell_type": "code",
      "execution_count": null,
      "metadata": {
        "id": "a851899f-a65b-428e-a16d-c58936c4981d"
      },
      "outputs": [],
      "source": [
        "params = {\n",
        "    \"task\":\"train\", \n",
        "    \"boosting\":\"gbdt\", \n",
        "    \"objective\":\"regression\", \n",
        "    \"num_leaves\":8, \n",
        "    \"n_estimators\":1000,\n",
        "    \"learning_rate\":0.03, \n",
        "    \"metric\": {\"l2\"}, \n",
        "    \"verbose\": -1\n",
        "}"
      ]
    },
    {
      "cell_type": "code",
      "source": [
        "df_train = df[df['TimeThirty2']<'2022-06-01']"
      ],
      "metadata": {
        "id": "gomJ9Qjc_yIH"
      },
      "execution_count": null,
      "outputs": []
    },
    {
      "cell_type": "code",
      "source": [
        "df_test = df[df['TimeThirty2']>='2022-06-01']"
      ],
      "metadata": {
        "id": "SHifEFbP_yIH"
      },
      "execution_count": null,
      "outputs": []
    },
    {
      "cell_type": "code",
      "execution_count": null,
      "metadata": {
        "id": "DH62Z1z0_nub"
      },
      "outputs": [],
      "source": [
        "X = df_train.drop(['TotalSumm', 'TimeThirty2'], axis=1)\n",
        "y = df_train['TotalSumm']\n",
        "\n",
        "X_test = df_test.drop(['TotalSumm', 'TimeThirty2'], axis=1)\n",
        "y_test = df_test['TotalSumm']"
      ]
    },
    {
      "cell_type": "code",
      "execution_count": null,
      "metadata": {
        "id": "uBqxSzSH_tBY"
      },
      "outputs": [],
      "source": [
        "X_train, X_val, y_train, y_val = train_test_split(X, y, test_size=0.15, random_state=17)"
      ]
    },
    {
      "cell_type": "code",
      "source": [
        "import lightgbm as lgb"
      ],
      "metadata": {
        "id": "a3KqmZspAPaB"
      },
      "execution_count": null,
      "outputs": []
    },
    {
      "cell_type": "code",
      "execution_count": null,
      "metadata": {
        "id": "dbd80921-b0a2-416b-89c0-aced89925f8d"
      },
      "outputs": [],
      "source": [
        "lgb_train = lgb.Dataset(X_train, y_train)\n",
        "lgb_eval = lgb.Dataset(X_val, y_val, reference=lgb_train)"
      ]
    },
    {
      "cell_type": "code",
      "execution_count": null,
      "metadata": {
        "id": "628594a5-24f7-47ca-bfac-8e0c81f1e5ee"
      },
      "outputs": [],
      "source": [
        "model = lgb.train(params, \n",
        "                  train_set=lgb_train, \n",
        "                  valid_sets=lgb_eval,\n",
        "                  early_stopping_rounds=30)"
      ]
    },
    {
      "cell_type": "code",
      "execution_count": null,
      "metadata": {
        "id": "ad0d1e97-63af-4d22-9a27-8759ae35830b",
        "outputId": "d6e878ac-1185-4fd3-fd00-6398f053b47f",
        "colab": {
          "base_uri": "https://localhost:8080/"
        }
      },
      "outputs": [
        {
          "output_type": "stream",
          "name": "stdout",
          "text": [
            "RMSLE:  670628.5318073075\n"
          ]
        }
      ],
      "source": [
        "y_pred = model.predict(X_test)\n",
        "print(\"RMSLE: \", mean_squared_error(y_test, y_pred)**0.5)"
      ]
    },
    {
      "cell_type": "code",
      "source": [
        "print('Test MAE:', mean_absolute_error(y_test, y_pred))"
      ],
      "metadata": {
        "colab": {
          "base_uri": "https://localhost:8080/"
        },
        "id": "K-2LQuKzWuhy",
        "outputId": "201bbffc-3d3b-48e2-dbae-d7af162bbc75"
      },
      "execution_count": null,
      "outputs": [
        {
          "output_type": "stream",
          "name": "stdout",
          "text": [
            "Test MAE: 364537.8215109858\n"
          ]
        }
      ]
    },
    {
      "cell_type": "markdown",
      "metadata": {
        "id": "b1ecab25-56f6-492e-bbc7-35001a75b4a4"
      },
      "source": [
        "## Output Analysis"
      ]
    },
    {
      "cell_type": "code",
      "source": [
        "fig, ax = plt.subplots(figsize=(3, 6))\n",
        "lgb.plot_importance(model, ax=ax)"
      ],
      "metadata": {
        "colab": {
          "base_uri": "https://localhost:8080/",
          "height": 458
        },
        "id": "MISnUiONgd8P",
        "outputId": "c2224f53-c795-4d7c-d4e5-646f563f1d1d"
      },
      "execution_count": null,
      "outputs": [
        {
          "output_type": "execute_result",
          "data": {
            "text/plain": [
              "<matplotlib.axes._subplots.AxesSubplot at 0x7ff8b1aa9190>"
            ]
          },
          "metadata": {},
          "execution_count": 94
        },
        {
          "output_type": "display_data",
          "data": {
            "text/plain": [
              "<Figure size 216x432 with 1 Axes>"
            ],
            "image/png": "[encoded data removed]"
          },
          "metadata": {}
        }
      ]
    },
    {
      "cell_type": "code",
      "source": [
        "fig, ax = plt.subplots(figsize=(5, 8))\n",
        "lgb.plot_importance(model, ax=ax)"
      ],
      "metadata": {
        "colab": {
          "base_uri": "https://localhost:8080/",
          "height": 575
        },
        "id": "WVyg1hrSCJGh",
        "outputId": "fb0f5e83-1778-40b4-c08d-e10a6fbc390d"
      },
      "execution_count": null,
      "outputs": [
        {
          "output_type": "execute_result",
          "data": {
            "text/plain": [
              "<matplotlib.axes._subplots.AxesSubplot at 0x7ff8adf2fc10>"
            ]
          },
          "metadata": {},
          "execution_count": 91
        },
        {
          "output_type": "display_data",
          "data": {
            "text/plain": [
              "<Figure size 360x576 with 1 Axes>"
            ],
            "image/png": "[encoded data removed]"
          },
          "metadata": {}
        }
      ]
    },
    {
      "cell_type": "code",
      "execution_count": null,
      "metadata": {
        "id": "de18fceb-a98c-4244-9c21-6931ee28b552"
      },
      "outputs": [],
      "source": [
        "# lgb.plot_importance(model, height=1);"
      ]
    },
    {
      "cell_type": "markdown",
      "source": [
        "## Предсказание"
      ],
      "metadata": {
        "id": "X4zvKdNbXPes"
      }
    },
    {
      "cell_type": "code",
      "source": [
        "df_test['pred'] = y_pred"
      ],
      "metadata": {
        "id": "VbDpy2NuXPet"
      },
      "execution_count": null,
      "outputs": []
    },
    {
      "cell_type": "code",
      "source": [
        "df_test.head(3)"
      ],
      "metadata": {
        "colab": {
          "base_uri": "https://localhost:8080/",
          "height": 294
        },
        "outputId": "f45f7cfc-d367-462c-f3d2-36f7ffa191dd",
        "id": "vOpEHVgCXPet"
      },
      "execution_count": null,
      "outputs": [
        {
          "output_type": "execute_result",
          "data": {
            "text/plain": [
              "       Торговая точка  Касса  orgtype  terminal  tzone  TotalSumm TimeThirty2  \\\n",
              "11840               3      6        0         0      1   500000.0  2022-06-01   \n",
              "11841               7     11        1         0      1    88080.0  2022-06-01   \n",
              "11842               6      5        0         0      1   303360.0  2022-06-01   \n",
              "\n",
              "        T    P0     P   U  DD  Ff  WW  W'W'    c  VV  Td  Кол-во рейсов вылет  \\\n",
              "11840  14 749.0 765.8  94   0   2   8     2  202  18  13                997.0   \n",
              "11841  14 749.0 765.8  94   0   2   8     2  202  18  13                997.0   \n",
              "11842  14 749.0 765.8  94   0   2   8     2  202  18  13                997.0   \n",
              "\n",
              "       Среднее время ожидания  Суммарное время ожидания  Макс время ожидания  \\\n",
              "11840                     0.1                      78.9                  0.3   \n",
              "11841                     0.1                      78.9                  0.3   \n",
              "11842                     0.1                      78.9                  0.3   \n",
              "\n",
              "       Кол-во рейсов вылет по рассписанию  \\\n",
              "11840                                 8.0   \n",
              "11841                                 8.0   \n",
              "11842                                 8.0   \n",
              "\n",
              "       Среднее время ожидания между прилет и вылет  \\\n",
              "11840                                          0.2   \n",
              "11841                                          0.2   \n",
              "11842                                          0.2   \n",
              "\n",
              "       Суммарное время ожидания в  между прилет и вылет  \\\n",
              "11840                                               2.0   \n",
              "11841                                               2.0   \n",
              "11842                                               2.0   \n",
              "\n",
              "       Макс время ожидания между прилет и вылет  day_of_week  hour     pred  \n",
              "11840                                       0.8            2     0 559745.6  \n",
              "11841                                       0.8            2     0  38705.1  \n",
              "11842                                       0.8            2     0 172819.1  "
            ],
            "text/html": [
              "\n",
              "  <div id=\"df-aac9a809-bfc6-4cac-9e2d-26b494ef492a\">\n",
              "    <div class=\"colab-df-container\">\n",
              "      <div>\n",
              "<style scoped>\n",
              "    .dataframe tbody tr th:only-of-type {\n",
              "        vertical-align: middle;\n",
              "    }\n",
              "\n",
              "    .dataframe tbody tr th {\n",
              "        vertical-align: top;\n",
              "    }\n",
              "\n",
              "    .dataframe thead th {\n",
              "        text-align: right;\n",
              "    }\n",
              "</style>\n",
              "<table border=\"1\" class=\"dataframe\">\n",
              "  <thead>\n",
              "    <tr style=\"text-align: right;\">\n",
              "      <th></th>\n",
              "      <th>Торговая точка</th>\n",
              "      <th>Касса</th>\n",
              "      <th>orgtype</th>\n",
              "      <th>terminal</th>\n",
              "      <th>tzone</th>\n",
              "      <th>TotalSumm</th>\n",
              "      <th>TimeThirty2</th>\n",
              "      <th>T</th>\n",
              "      <th>P0</th>\n",
              "      <th>P</th>\n",
              "      <th>U</th>\n",
              "      <th>DD</th>\n",
              "      <th>Ff</th>\n",
              "      <th>WW</th>\n",
              "      <th>W'W'</th>\n",
              "      <th>c</th>\n",
              "      <th>VV</th>\n",
              "      <th>Td</th>\n",
              "      <th>Кол-во рейсов вылет</th>\n",
              "      <th>Среднее время ожидания</th>\n",
              "      <th>Суммарное время ожидания</th>\n",
              "      <th>Макс время ожидания</th>\n",
              "      <th>Кол-во рейсов вылет по рассписанию</th>\n",
              "      <th>Среднее время ожидания между прилет и вылет</th>\n",
              "      <th>Суммарное время ожидания в  между прилет и вылет</th>\n",
              "      <th>Макс время ожидания между прилет и вылет</th>\n",
              "      <th>day_of_week</th>\n",
              "      <th>hour</th>\n",
              "      <th>pred</th>\n",
              "    </tr>\n",
              "  </thead>\n",
              "  <tbody>\n",
              "    <tr>\n",
              "      <th>11840</th>\n",
              "      <td>3</td>\n",
              "      <td>6</td>\n",
              "      <td>0</td>\n",
              "      <td>0</td>\n",
              "      <td>1</td>\n",
              "      <td>500000.0</td>\n",
              "      <td>2022-06-01</td>\n",
              "      <td>14</td>\n",
              "      <td>749.0</td>\n",
              "      <td>765.8</td>\n",
              "      <td>94</td>\n",
              "      <td>0</td>\n",
              "      <td>2</td>\n",
              "      <td>8</td>\n",
              "      <td>2</td>\n",
              "      <td>202</td>\n",
              "      <td>18</td>\n",
              "      <td>13</td>\n",
              "      <td>997.0</td>\n",
              "      <td>0.1</td>\n",
              "      <td>78.9</td>\n",
              "      <td>0.3</td>\n",
              "      <td>8.0</td>\n",
              "      <td>0.2</td>\n",
              "      <td>2.0</td>\n",
              "      <td>0.8</td>\n",
              "      <td>2</td>\n",
              "      <td>0</td>\n",
              "      <td>559745.6</td>\n",
              "    </tr>\n",
              "    <tr>\n",
              "      <th>11841</th>\n",
              "      <td>7</td>\n",
              "      <td>11</td>\n",
              "      <td>1</td>\n",
              "      <td>0</td>\n",
              "      <td>1</td>\n",
              "      <td>88080.0</td>\n",
              "      <td>2022-06-01</td>\n",
              "      <td>14</td>\n",
              "      <td>749.0</td>\n",
              "      <td>765.8</td>\n",
              "      <td>94</td>\n",
              "      <td>0</td>\n",
              "      <td>2</td>\n",
              "      <td>8</td>\n",
              "      <td>2</td>\n",
              "      <td>202</td>\n",
              "      <td>18</td>\n",
              "      <td>13</td>\n",
              "      <td>997.0</td>\n",
              "      <td>0.1</td>\n",
              "      <td>78.9</td>\n",
              "      <td>0.3</td>\n",
              "      <td>8.0</td>\n",
              "      <td>0.2</td>\n",
              "      <td>2.0</td>\n",
              "      <td>0.8</td>\n",
              "      <td>2</td>\n",
              "      <td>0</td>\n",
              "      <td>38705.1</td>\n",
              "    </tr>\n",
              "    <tr>\n",
              "      <th>11842</th>\n",
              "      <td>6</td>\n",
              "      <td>5</td>\n",
              "      <td>0</td>\n",
              "      <td>0</td>\n",
              "      <td>1</td>\n",
              "      <td>303360.0</td>\n",
              "      <td>2022-06-01</td>\n",
              "      <td>14</td>\n",
              "      <td>749.0</td>\n",
              "      <td>765.8</td>\n",
              "      <td>94</td>\n",
              "      <td>0</td>\n",
              "      <td>2</td>\n",
              "      <td>8</td>\n",
              "      <td>2</td>\n",
              "      <td>202</td>\n",
              "      <td>18</td>\n",
              "      <td>13</td>\n",
              "      <td>997.0</td>\n",
              "      <td>0.1</td>\n",
              "      <td>78.9</td>\n",
              "      <td>0.3</td>\n",
              "      <td>8.0</td>\n",
              "      <td>0.2</td>\n",
              "      <td>2.0</td>\n",
              "      <td>0.8</td>\n",
              "      <td>2</td>\n",
              "      <td>0</td>\n",
              "      <td>172819.1</td>\n",
              "    </tr>\n",
              "  </tbody>\n",
              "</table>\n",
              "</div>\n",
              "      <button class=\"colab-df-convert\" onclick=\"convertToInteractive('df-aac9a809-bfc6-4cac-9e2d-26b494ef492a')\"\n",
              "              title=\"Convert this dataframe to an interactive table.\"\n",
              "              style=\"display:none;\">\n",
              "        \n",
              "  <svg xmlns=\"http://www.w3.org/2000/svg\" height=\"24px\"viewBox=\"0 0 24 24\"\n",
              "       width=\"24px\">\n",
              "    <path d=\"M0 0h24v24H0V0z\" fill=\"none\"/>\n",
              "    <path d=\"M18.56 5.44l.94 2.06.94-2.06 2.06-.94-2.06-.94-.94-2.06-.94 2.06-2.06.94zm-11 1L8.5 8.5l.94-2.06 2.06-.94-2.06-.94L8.5 2.5l-.94 2.06-2.06.94zm10 10l.94 2.06.94-2.06 2.06-.94-2.06-.94-.94-2.06-.94 2.06-2.06.94z\"/><path d=\"M17.41 7.96l-1.37-1.37c-.4-.4-.92-.59-1.43-.59-.52 0-1.04.2-1.43.59L10.3 9.45l-7.72 7.72c-.78.78-.78 2.05 0 2.83L4 21.41c.39.39.9.59 1.41.59.51 0 1.02-.2 1.41-.59l7.78-7.78 2.81-2.81c.8-.78.8-2.07 0-2.86zM5.41 20L4 18.59l7.72-7.72 1.47 1.35L5.41 20z\"/>\n",
              "  </svg>\n",
              "      </button>\n",
              "      \n",
              "  <style>\n",
              "    .colab-df-container {\n",
              "      display:flex;\n",
              "      flex-wrap:wrap;\n",
              "      gap: 12px;\n",
              "    }\n",
              "\n",
              "    .colab-df-convert {\n",
              "      background-color: #E8F0FE;\n",
              "      border: none;\n",
              "      border-radius: 50%;\n",
              "      cursor: pointer;\n",
              "      display: none;\n",
              "      fill: #1967D2;\n",
              "      height: 32px;\n",
              "      padding: 0 0 0 0;\n",
              "      width: 32px;\n",
              "    }\n",
              "\n",
              "    .colab-df-convert:hover {\n",
              "      background-color: #E2EBFA;\n",
              "      box-shadow: 0px 1px 2px rgba(60, 64, 67, 0.3), 0px 1px 3px 1px rgba(60, 64, 67, 0.15);\n",
              "      fill: #174EA6;\n",
              "    }\n",
              "\n",
              "    [theme=dark] .colab-df-convert {\n",
              "      background-color: #3B4455;\n",
              "      fill: #D2E3FC;\n",
              "    }\n",
              "\n",
              "    [theme=dark] .colab-df-convert:hover {\n",
              "      background-color: #434B5C;\n",
              "      box-shadow: 0px 1px 3px 1px rgba(0, 0, 0, 0.15);\n",
              "      filter: drop-shadow(0px 1px 2px rgba(0, 0, 0, 0.3));\n",
              "      fill: #FFFFFF;\n",
              "    }\n",
              "  </style>\n",
              "\n",
              "      <script>\n",
              "        const buttonEl =\n",
              "          document.querySelector('#df-aac9a809-bfc6-4cac-9e2d-26b494ef492a button.colab-df-convert');\n",
              "        buttonEl.style.display =\n",
              "          google.colab.kernel.accessAllowed ? 'block' : 'none';\n",
              "\n",
              "        async function convertToInteractive(key) {\n",
              "          const element = document.querySelector('#df-aac9a809-bfc6-4cac-9e2d-26b494ef492a');\n",
              "          const dataTable =\n",
              "            await google.colab.kernel.invokeFunction('convertToInteractive',\n",
              "                                                     [key], {});\n",
              "          if (!dataTable) return;\n",
              "\n",
              "          const docLinkHtml = 'Like what you see? Visit the ' +\n",
              "            '<a target=\"_blank\" href=https://colab.research.google.com/notebooks/data_table.ipynb>data table notebook</a>'\n",
              "            + ' to learn more about interactive tables.';\n",
              "          element.innerHTML = '';\n",
              "          dataTable['output_type'] = 'display_data';\n",
              "          await google.colab.output.renderOutput(dataTable, element);\n",
              "          const docLink = document.createElement('div');\n",
              "          docLink.innerHTML = docLinkHtml;\n",
              "          element.appendChild(docLink);\n",
              "        }\n",
              "      </script>\n",
              "    </div>\n",
              "  </div>\n",
              "  "
            ]
          },
          "metadata": {},
          "execution_count": 88
        }
      ]
    },
    {
      "cell_type": "code",
      "source": [
        "df_test.to_csv('pred_lgb.csv', sep=';', index=None)"
      ],
      "metadata": {
        "id": "CNYERMvZXPet"
      },
      "execution_count": null,
      "outputs": []
    },
    {
      "cell_type": "code",
      "source": [
        "df_test.to_excel(\"pred_lgb.xlsx\")"
      ],
      "metadata": {
        "id": "N9L70vDDXPeu"
      },
      "execution_count": null,
      "outputs": []
    }
  ]
}